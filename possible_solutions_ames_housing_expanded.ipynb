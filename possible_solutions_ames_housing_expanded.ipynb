{
  "nbformat": 4,
  "nbformat_minor": 0,
  "metadata": {
    "colab": {
      "name": "possible_solutions_ames_housing_expanded.ipynb",
      "provenance": [],
      "collapsed_sections": [],
      "toc_visible": true,
      "include_colab_link": true
    },
    "hide_input": false,
    "kernelspec": {
      "display_name": "Python 3",
      "language": "python",
      "name": "python3"
    },
    "language_info": {
      "codemirror_mode": {
        "name": "ipython",
        "version": 3
      },
      "file_extension": ".py",
      "mimetype": "text/x-python",
      "name": "python",
      "nbconvert_exporter": "python",
      "pygments_lexer": "ipython3",
      "version": "3.8.3"
    },
    "toc": {
      "base_numbering": 1,
      "nav_menu": {},
      "number_sections": true,
      "sideBar": true,
      "skip_h1_title": true,
      "title_cell": "Table of Contents",
      "title_sidebar": "Contents",
      "toc_cell": false,
      "toc_position": {},
      "toc_section_display": true,
      "toc_window_display": true
    }
  },
  "cells": [
    {
      "cell_type": "markdown",
      "metadata": {
        "id": "view-in-github",
        "colab_type": "text"
      },
      "source": [
        "<a href=\"https://colab.research.google.com/github/knaat/Ames-housing/blob/main/possible_solutions_ames_housing_expanded.ipynb\" target=\"_parent\"><img src=\"https://colab.research.google.com/assets/colab-badge.svg\" alt=\"Open In Colab\"/></a>"
      ]
    },
    {
      "cell_type": "code",
      "metadata": {
        "colab": {
          "base_uri": "https://localhost:8080/"
        },
        "id": "tEdNHllBqrax",
        "outputId": "187d8097-794f-4a0a-bb95-17d8ed7b48a8"
      },
      "source": [
        "# we want to use sklearn >= 0.23 for visualizing pipelines\n",
        "!pip install -U scikit-learn"
      ],
      "execution_count": 2,
      "outputs": [
        {
          "output_type": "stream",
          "text": [
            "Requirement already up-to-date: scikit-learn in /usr/local/lib/python3.6/dist-packages (0.23.2)\n",
            "Requirement already satisfied, skipping upgrade: numpy>=1.13.3 in /usr/local/lib/python3.6/dist-packages (from scikit-learn) (1.18.5)\n",
            "Requirement already satisfied, skipping upgrade: scipy>=0.19.1 in /usr/local/lib/python3.6/dist-packages (from scikit-learn) (1.4.1)\n",
            "Requirement already satisfied, skipping upgrade: threadpoolctl>=2.0.0 in /usr/local/lib/python3.6/dist-packages (from scikit-learn) (2.1.0)\n",
            "Requirement already satisfied, skipping upgrade: joblib>=0.11 in /usr/local/lib/python3.6/dist-packages (from scikit-learn) (0.17.0)\n"
          ],
          "name": "stdout"
        }
      ]
    },
    {
      "cell_type": "markdown",
      "metadata": {
        "id": "U_FqrmIe95GH"
      },
      "source": [
        "# Ames Housing case - examples of possible solutions + some added feature engineering\n",
        "\n",
        "\n",
        "## Objective\n",
        "There are many ways to skin a cat, so there isn't one 'silver bullit' solution to the Ames Housing case. This notebook provides possible solutions with the following in mind:\n",
        "\n",
        "* Solutions how to do the various steps of the data mining process in clean and compact code, using `sklearn` and `pandas` as much as possible\n",
        "* KISS principle: see how we can build the best prediction with the least amount of variables"
      ]
    },
    {
      "cell_type": "code",
      "metadata": {
        "colab": {
          "base_uri": "https://localhost:8080/"
        },
        "id": "isKizXjMnyaw",
        "outputId": "7fcc4bef-fbb2-481b-b230-b829332ae503"
      },
      "source": [
        "import numpy as np\n",
        "import pandas as pd\n",
        "import sklearn\n",
        "from sklearn.utils import estimator_html_repr\n",
        "from sklearn.model_selection import train_test_split, cross_validate\n",
        "from sklearn.preprocessing import OneHotEncoder, OrdinalEncoder, StandardScaler\n",
        "from sklearn.compose import make_column_transformer\n",
        "from sklearn.impute import SimpleImputer\n",
        "from sklearn.pipeline import make_pipeline \n",
        "from sklearn.linear_model import LinearRegression, LassoCV\n",
        "from sklearn.metrics import mean_squared_error\n",
        "from sklearn.ensemble import RandomForestRegressor, GradientBoostingRegressor\n",
        "import xgboost as xgb\n",
        "import seaborn as sns\n",
        "import matplotlib.pyplot as plt\n",
        "\n",
        "# check version\n",
        "print(f\"using scikit-learn version {sklearn.__version__}\")\n",
        "\n",
        "# setting to visualize pipelines\n",
        "# see https://towardsdatascience.com/are-you-using-pipeline-in-scikit-learn-ac4cd85cb27f\n",
        "sklearn.set_config(display='diagram')\n",
        "\n",
        "# seaborn theme\n",
        "sns.set_style('whitegrid')\n",
        "\n",
        "# dataset\n",
        "URL = 'https://github.com/jads-nl/discover-projects/blob/main/ames-housing/AmesHousing.csv?raw=true'\n",
        "\n",
        "# leaderboard to compare our results\n",
        "LEADERBOARD = 'https://github.com/jads-nl/discover-projects/blob/main/ames-housing/house-prices-advanced-regression-techniques-publicleaderboard.csv?raw=true'\n",
        "\n",
        "# fill-value for missings in categorical variables\n",
        "MISSING = 'missing'\n",
        "NONE = 'not present'"
      ],
      "execution_count": 3,
      "outputs": [
        {
          "output_type": "stream",
          "text": [
            "using scikit-learn version 0.23.2\n"
          ],
          "name": "stdout"
        }
      ]
    },
    {
      "cell_type": "markdown",
      "metadata": {
        "id": "CUW95oUF_Gmv"
      },
      "source": [
        "# Data understanding"
      ]
    },
    {
      "cell_type": "markdown",
      "metadata": {
        "id": "RMtupYNn_anH"
      },
      "source": [
        "### Exploratory data analysis (EDA)\n",
        "\n",
        "For an elaborate EDA, please refer to [Pedro Marcelino's notebook on Kaggle](https://www.kaggle.com/pmarcelino/comprehensive-data-exploration-with-python). We will cut the chase and just follow-up on the recommendations by the author of the dataset:\n",
        "  - Remove all homes with a living area (GR LIVE AREA) above 4000 square feet\n",
        "  - NAs means 'not presents' for the categorical variables `Alley`, `Bsmt Qual`, `Bsmt Cond`, `BsmtFin Type 1`, `BsmtFin Type 2`, `Fireplace Qu`,\n",
        "`Garage Type`, `Garage Finish`, `Garage Qual`, `GarageCond`, `Pool QC` `Fence`, `Garage Yr Blt` and `Misc Feature`\n",
        "\n",
        "To get started we use `pandas.read_csv`. Note that you can directly fetch a file from internet (without having to download it locally). This makes it easy for sharing on online Jupyter environments like Colab."
      ]
    },
    {
      "cell_type": "code",
      "metadata": {
        "colab": {
          "base_uri": "https://localhost:8080/"
        },
        "id": "gLXruXrNn9GX",
        "outputId": "5836997f-f746-45a7-8dcc-fb561c3ea5b8"
      },
      "source": [
        "df = pd.read_csv(URL)\n",
        "df.info()"
      ],
      "execution_count": 4,
      "outputs": [
        {
          "output_type": "stream",
          "text": [
            "<class 'pandas.core.frame.DataFrame'>\n",
            "RangeIndex: 2930 entries, 0 to 2929\n",
            "Data columns (total 82 columns):\n",
            " #   Column           Non-Null Count  Dtype  \n",
            "---  ------           --------------  -----  \n",
            " 0   Order            2930 non-null   int64  \n",
            " 1   PID              2930 non-null   int64  \n",
            " 2   MS SubClass      2930 non-null   int64  \n",
            " 3   MS Zoning        2930 non-null   object \n",
            " 4   Lot Frontage     2440 non-null   float64\n",
            " 5   Lot Area         2930 non-null   int64  \n",
            " 6   Street           2930 non-null   object \n",
            " 7   Alley            198 non-null    object \n",
            " 8   Lot Shape        2930 non-null   object \n",
            " 9   Land Contour     2930 non-null   object \n",
            " 10  Utilities        2930 non-null   object \n",
            " 11  Lot Config       2930 non-null   object \n",
            " 12  Land Slope       2930 non-null   object \n",
            " 13  Neighborhood     2930 non-null   object \n",
            " 14  Condition 1      2930 non-null   object \n",
            " 15  Condition 2      2930 non-null   object \n",
            " 16  Bldg Type        2930 non-null   object \n",
            " 17  House Style      2930 non-null   object \n",
            " 18  Overall Qual     2930 non-null   int64  \n",
            " 19  Overall Cond     2930 non-null   int64  \n",
            " 20  Year Built       2930 non-null   int64  \n",
            " 21  Year Remod/Add   2930 non-null   int64  \n",
            " 22  Roof Style       2930 non-null   object \n",
            " 23  Roof Matl        2930 non-null   object \n",
            " 24  Exterior 1st     2930 non-null   object \n",
            " 25  Exterior 2nd     2930 non-null   object \n",
            " 26  Mas Vnr Type     2907 non-null   object \n",
            " 27  Mas Vnr Area     2907 non-null   float64\n",
            " 28  Exter Qual       2930 non-null   object \n",
            " 29  Exter Cond       2930 non-null   object \n",
            " 30  Foundation       2930 non-null   object \n",
            " 31  Bsmt Qual        2850 non-null   object \n",
            " 32  Bsmt Cond        2850 non-null   object \n",
            " 33  Bsmt Exposure    2847 non-null   object \n",
            " 34  BsmtFin Type 1   2850 non-null   object \n",
            " 35  BsmtFin SF 1     2929 non-null   float64\n",
            " 36  BsmtFin Type 2   2849 non-null   object \n",
            " 37  BsmtFin SF 2     2929 non-null   float64\n",
            " 38  Bsmt Unf SF      2929 non-null   float64\n",
            " 39  Total Bsmt SF    2929 non-null   float64\n",
            " 40  Heating          2930 non-null   object \n",
            " 41  Heating QC       2930 non-null   object \n",
            " 42  Central Air      2930 non-null   object \n",
            " 43  Electrical       2929 non-null   object \n",
            " 44  1st Flr SF       2930 non-null   int64  \n",
            " 45  2nd Flr SF       2930 non-null   int64  \n",
            " 46  Low Qual Fin SF  2930 non-null   int64  \n",
            " 47  Gr Liv Area      2930 non-null   int64  \n",
            " 48  Bsmt Full Bath   2928 non-null   float64\n",
            " 49  Bsmt Half Bath   2928 non-null   float64\n",
            " 50  Full Bath        2930 non-null   int64  \n",
            " 51  Half Bath        2930 non-null   int64  \n",
            " 52  Bedroom AbvGr    2930 non-null   int64  \n",
            " 53  Kitchen AbvGr    2930 non-null   int64  \n",
            " 54  Kitchen Qual     2930 non-null   object \n",
            " 55  TotRms AbvGrd    2930 non-null   int64  \n",
            " 56  Functional       2930 non-null   object \n",
            " 57  Fireplaces       2930 non-null   int64  \n",
            " 58  Fireplace Qu     1508 non-null   object \n",
            " 59  Garage Type      2773 non-null   object \n",
            " 60  Garage Yr Blt    2771 non-null   float64\n",
            " 61  Garage Finish    2771 non-null   object \n",
            " 62  Garage Cars      2929 non-null   float64\n",
            " 63  Garage Area      2929 non-null   float64\n",
            " 64  Garage Qual      2771 non-null   object \n",
            " 65  Garage Cond      2771 non-null   object \n",
            " 66  Paved Drive      2930 non-null   object \n",
            " 67  Wood Deck SF     2930 non-null   int64  \n",
            " 68  Open Porch SF    2930 non-null   int64  \n",
            " 69  Enclosed Porch   2930 non-null   int64  \n",
            " 70  3Ssn Porch       2930 non-null   int64  \n",
            " 71  Screen Porch     2930 non-null   int64  \n",
            " 72  Pool Area        2930 non-null   int64  \n",
            " 73  Pool QC          13 non-null     object \n",
            " 74  Fence            572 non-null    object \n",
            " 75  Misc Feature     106 non-null    object \n",
            " 76  Misc Val         2930 non-null   int64  \n",
            " 77  Mo Sold          2930 non-null   int64  \n",
            " 78  Yr Sold          2930 non-null   int64  \n",
            " 79  Sale Type        2930 non-null   object \n",
            " 80  Sale Condition   2930 non-null   object \n",
            " 81  SalePrice        2930 non-null   int64  \n",
            "dtypes: float64(11), int64(28), object(43)\n",
            "memory usage: 1.8+ MB\n"
          ],
          "name": "stdout"
        }
      ]
    },
    {
      "cell_type": "code",
      "metadata": {
        "id": "lInCxKSn3uxW"
      },
      "source": [
        "# use fillna for all columns where na means none\n",
        "cols_na_means_none = ['Alley',\n",
        "                 'Bsmt Qual',\n",
        "                 'Bsmt Cond',\n",
        "                 'BsmtFin Type 1',\n",
        "                 'BsmtFin Type 2',\n",
        "                 'Fireplace Qu',\n",
        "                 'Garage Type',\n",
        "                 'Garage Finish',\n",
        "                 'Garage Qual',\n",
        "                 'Garage Cond',\n",
        "                 'Pool QC',\n",
        "                 'Fence',\n",
        "                 'Garage Yr Blt',\n",
        "                 'Misc Feature']\n",
        "\n",
        "df.loc[:, cols_na_means_none] = df.loc[:, cols_na_means_none].fillna(value=NONE)"
      ],
      "execution_count": 5,
      "outputs": []
    },
    {
      "cell_type": "code",
      "metadata": {
        "colab": {
          "base_uri": "https://localhost:8080/"
        },
        "id": "oGUaJG6R3uxW",
        "outputId": "1a655a66-4154-468c-b769-0333d395a3f6"
      },
      "source": [
        "# see which columns have NAs, you could make this into a small utility function\n",
        "def na_per_columns(df):\n",
        "    \"\"\"Calculates nulls per column\n",
        "    \"\"\"\n",
        "    nulls = df.isnull().sum()\n",
        "    return nulls[nulls != 0].sort_values(ascending=False)\n",
        "\n",
        "\n",
        "cols_with_nulls = na_per_columns(df)\n",
        "cols_with_nulls"
      ],
      "execution_count": 6,
      "outputs": [
        {
          "output_type": "execute_result",
          "data": {
            "text/plain": [
              "Lot Frontage      490\n",
              "Bsmt Exposure      83\n",
              "Mas Vnr Area       23\n",
              "Mas Vnr Type       23\n",
              "Bsmt Half Bath      2\n",
              "Bsmt Full Bath      2\n",
              "Garage Area         1\n",
              "Garage Cars         1\n",
              "Electrical          1\n",
              "Total Bsmt SF       1\n",
              "Bsmt Unf SF         1\n",
              "BsmtFin SF 2        1\n",
              "BsmtFin SF 1        1\n",
              "dtype: int64"
            ]
          },
          "metadata": {
            "tags": []
          },
          "execution_count": 6
        }
      ]
    },
    {
      "cell_type": "markdown",
      "metadata": {
        "id": "yxa0dIQX5BLP"
      },
      "source": [
        "Changed plot to show anomalous sales with > 4000 sq feet living area and spread of Sale Condition types.  Removal of non-Normal sales is included in feature engineering section below.    "
      ]
    },
    {
      "cell_type": "code",
      "metadata": {
        "colab": {
          "base_uri": "https://localhost:8080/",
          "height": 501
        },
        "id": "0apufCj-3uxX",
        "scrolled": false,
        "outputId": "efa7615d-768f-4ddc-cda1-57a06507fe66"
      },
      "source": [
        "# check if outliers Gr Liv Area > 4000 and visualise Sale Condition\n",
        "plt.figure(figsize=(12,8))\n",
        "plt.xlim(0, 800000)\n",
        "plt.ylim(0, 6000)\n",
        "sns.scatterplot(data=df, x='SalePrice', y='Gr Liv Area', hue='Sale Condition');"
      ],
      "execution_count": 7,
      "outputs": [
        {
          "output_type": "display_data",
          "data": {
            "image/png": "[encoded data removed]",
            "text/plain": [
              "<Figure size 864x576 with 1 Axes>"
            ]
          },
          "metadata": {
            "tags": []
          }
        }
      ]
    },
    {
      "cell_type": "code",
      "metadata": {
        "colab": {
          "base_uri": "https://localhost:8080/"
        },
        "id": "aKN7EdoN3uxX",
        "outputId": "5118900e-373e-40ba-ce98-12cd43507335"
      },
      "source": [
        "# Removing 5 outliers as per description Ames Housing dataset\n",
        "df.drop(df[df['Gr Liv Area'] >= 4000].index, inplace=True)\n",
        "df.shape"
      ],
      "execution_count": 8,
      "outputs": [
        {
          "output_type": "execute_result",
          "data": {
            "text/plain": [
              "(2925, 82)"
            ]
          },
          "metadata": {
            "tags": []
          },
          "execution_count": 8
        }
      ]
    },
    {
      "cell_type": "code",
      "metadata": {
        "scrolled": false,
        "colab": {
          "base_uri": "https://localhost:8080/",
          "height": 501
        },
        "id": "U8HL8X9C4QV_",
        "outputId": "541a565f-75db-4faf-918e-da7b2a6ed8bf"
      },
      "source": [
        "# check if outliers Gr Liv Area > 4000 have been removed and visualise spread of neighborhoods as illustration \n",
        "plt.figure(figsize=(12,8))\n",
        "plt.xlim(0, 800000)\n",
        "plt.ylim(0, 6000)\n",
        "sns.scatterplot(data=df, x='SalePrice', y='Gr Liv Area', hue='Neighborhood');"
      ],
      "execution_count": 9,
      "outputs": [
        {
          "output_type": "display_data",
          "data": {
            "image/png": "[encoded data removed]",
            "text/plain": [
              "<Figure size 864x576 with 1 Axes>"
            ]
          },
          "metadata": {
            "tags": []
          }
        }
      ]
    },
    {
      "cell_type": "markdown",
      "metadata": {
        "id": "Y-S126SjMQwG"
      },
      "source": [
        "### Optimizing memory usage\n",
        "\n",
        "Use `df.info()` to get a first view. In this case the dataset is not so large (1.8 MB). If anything gets beyond hundreds of MBs in memory, it helps to optimize, by using [`pd.to_numeric(downcast=...)`](https://pandas.pydata.org/pandas-docs/stable/reference/api/pandas.to_numeric.html?highlight=to_numeric#pandas.to_numeric) and converting categorical variables to [`pd.categorical`](https://pandas.pydata.org/pandas-docs/stable/user_guide/categorical.html). Doing so reduces the memory to 22% of the orginal (400 KB). "
      ]
    },
    {
      "cell_type": "code",
      "metadata": {
        "colab": {
          "base_uri": "https://localhost:8080/"
        },
        "id": "AVgxLEkSMNdt",
        "outputId": "4a8a2033-21de-42c8-a350-bad97bf91f6b"
      },
      "source": [
        "# objects to categorical\n",
        "df[df.select_dtypes(include='object').columns] = df.select_dtypes(include='object').astype('category')\n",
        "\n",
        "# convert integers to smallest unsigned integer and floats to smallest\n",
        "for old, new in [('integer', 'unsigned'), ('float', 'float')]:\n",
        "    for col in df.select_dtypes(include=old).columns:\n",
        "        df[col] = pd.to_numeric(df[col], downcast=new)\n",
        "\n",
        "df.info()"
      ],
      "execution_count": 10,
      "outputs": [
        {
          "output_type": "stream",
          "text": [
            "<class 'pandas.core.frame.DataFrame'>\n",
            "Int64Index: 2925 entries, 0 to 2929\n",
            "Data columns (total 82 columns):\n",
            " #   Column           Non-Null Count  Dtype   \n",
            "---  ------           --------------  -----   \n",
            " 0   Order            2925 non-null   uint16  \n",
            " 1   PID              2925 non-null   uint32  \n",
            " 2   MS SubClass      2925 non-null   uint8   \n",
            " 3   MS Zoning        2925 non-null   category\n",
            " 4   Lot Frontage     2435 non-null   float32 \n",
            " 5   Lot Area         2925 non-null   uint32  \n",
            " 6   Street           2925 non-null   category\n",
            " 7   Alley            2925 non-null   category\n",
            " 8   Lot Shape        2925 non-null   category\n",
            " 9   Land Contour     2925 non-null   category\n",
            " 10  Utilities        2925 non-null   category\n",
            " 11  Lot Config       2925 non-null   category\n",
            " 12  Land Slope       2925 non-null   category\n",
            " 13  Neighborhood     2925 non-null   category\n",
            " 14  Condition 1      2925 non-null   category\n",
            " 15  Condition 2      2925 non-null   category\n",
            " 16  Bldg Type        2925 non-null   category\n",
            " 17  House Style      2925 non-null   category\n",
            " 18  Overall Qual     2925 non-null   uint8   \n",
            " 19  Overall Cond     2925 non-null   uint8   \n",
            " 20  Year Built       2925 non-null   uint16  \n",
            " 21  Year Remod/Add   2925 non-null   uint16  \n",
            " 22  Roof Style       2925 non-null   category\n",
            " 23  Roof Matl        2925 non-null   category\n",
            " 24  Exterior 1st     2925 non-null   category\n",
            " 25  Exterior 2nd     2925 non-null   category\n",
            " 26  Mas Vnr Type     2902 non-null   category\n",
            " 27  Mas Vnr Area     2902 non-null   float32 \n",
            " 28  Exter Qual       2925 non-null   category\n",
            " 29  Exter Cond       2925 non-null   category\n",
            " 30  Foundation       2925 non-null   category\n",
            " 31  Bsmt Qual        2925 non-null   category\n",
            " 32  Bsmt Cond        2925 non-null   category\n",
            " 33  Bsmt Exposure    2842 non-null   category\n",
            " 34  BsmtFin Type 1   2925 non-null   category\n",
            " 35  BsmtFin SF 1     2924 non-null   float32 \n",
            " 36  BsmtFin Type 2   2925 non-null   category\n",
            " 37  BsmtFin SF 2     2924 non-null   float32 \n",
            " 38  Bsmt Unf SF      2924 non-null   float32 \n",
            " 39  Total Bsmt SF    2924 non-null   float32 \n",
            " 40  Heating          2925 non-null   category\n",
            " 41  Heating QC       2925 non-null   category\n",
            " 42  Central Air      2925 non-null   category\n",
            " 43  Electrical       2924 non-null   category\n",
            " 44  1st Flr SF       2925 non-null   uint16  \n",
            " 45  2nd Flr SF       2925 non-null   uint16  \n",
            " 46  Low Qual Fin SF  2925 non-null   uint16  \n",
            " 47  Gr Liv Area      2925 non-null   uint16  \n",
            " 48  Bsmt Full Bath   2923 non-null   float32 \n",
            " 49  Bsmt Half Bath   2923 non-null   float32 \n",
            " 50  Full Bath        2925 non-null   uint8   \n",
            " 51  Half Bath        2925 non-null   uint8   \n",
            " 52  Bedroom AbvGr    2925 non-null   uint8   \n",
            " 53  Kitchen AbvGr    2925 non-null   uint8   \n",
            " 54  Kitchen Qual     2925 non-null   category\n",
            " 55  TotRms AbvGrd    2925 non-null   uint8   \n",
            " 56  Functional       2925 non-null   category\n",
            " 57  Fireplaces       2925 non-null   uint8   \n",
            " 58  Fireplace Qu     2925 non-null   category\n",
            " 59  Garage Type      2925 non-null   category\n",
            " 60  Garage Yr Blt    2925 non-null   category\n",
            " 61  Garage Finish    2925 non-null   category\n",
            " 62  Garage Cars      2924 non-null   float32 \n",
            " 63  Garage Area      2924 non-null   float32 \n",
            " 64  Garage Qual      2925 non-null   category\n",
            " 65  Garage Cond      2925 non-null   category\n",
            " 66  Paved Drive      2925 non-null   category\n",
            " 67  Wood Deck SF     2925 non-null   uint16  \n",
            " 68  Open Porch SF    2925 non-null   uint16  \n",
            " 69  Enclosed Porch   2925 non-null   uint16  \n",
            " 70  3Ssn Porch       2925 non-null   uint16  \n",
            " 71  Screen Porch     2925 non-null   uint16  \n",
            " 72  Pool Area        2925 non-null   uint16  \n",
            " 73  Pool QC          2925 non-null   category\n",
            " 74  Fence            2925 non-null   category\n",
            " 75  Misc Feature     2925 non-null   category\n",
            " 76  Misc Val         2925 non-null   uint16  \n",
            " 77  Mo Sold          2925 non-null   uint8   \n",
            " 78  Yr Sold          2925 non-null   uint16  \n",
            " 79  Sale Type        2925 non-null   category\n",
            " 80  Sale Condition   2925 non-null   category\n",
            " 81  SalePrice        2925 non-null   uint32  \n",
            "dtypes: category(44), float32(10), uint16(15), uint32(3), uint8(10)\n",
            "memory usage: 429.2 KB\n"
          ],
          "name": "stdout"
        }
      ]
    },
    {
      "cell_type": "markdown",
      "metadata": {
        "id": "fWv83VkT4QWA"
      },
      "source": [
        "N.B. Split test and train datasets with test_size=0.5 to compare apples to apples with Kaggle competition where train and test datasets are 50-50 split. Set a random_state=42 to ensure results are the same for each run. "
      ]
    },
    {
      "cell_type": "code",
      "metadata": {
        "id": "ExyER-p2LpZL"
      },
      "source": [
        "#\n",
        "# No data snooping \n",
        "#\n",
        "# N.B. Select test_size=0.5 to compare apples to apples with Kaggle competition where train and test datasets\n",
        "# are 50-50 split. With a larger subset in principle a better model can be dreived. \n",
        "#\n",
        "# Set a random_state to ensure results are the same for each run. \n",
        "#\n",
        "df_train, df_test = train_test_split(df, test_size=0.5, random_state=42)"
      ],
      "execution_count": 11,
      "outputs": []
    },
    {
      "cell_type": "code",
      "metadata": {
        "colab": {
          "base_uri": "https://localhost:8080/"
        },
        "id": "KvzmkyrEZnEq",
        "outputId": "4c76a9af-ac2f-44f6-846c-abc53b7e3879"
      },
      "source": [
        "# evaluate which columns have large percentage missing values, say 20%\n",
        "cols_to_drop = (cols_with_nulls[cols_with_nulls / len(df) > 0.2] / len(df)).index\n",
        "cols_with_nulls[cols_to_drop]"
      ],
      "execution_count": 12,
      "outputs": [
        {
          "output_type": "execute_result",
          "data": {
            "text/plain": [
              "Series([], dtype: int64)"
            ]
          },
          "metadata": {
            "tags": []
          },
          "execution_count": 12
        }
      ]
    },
    {
      "cell_type": "markdown",
      "metadata": {
        "id": "5Ldfn64OvW0j"
      },
      "source": [
        "## Data preparation"
      ]
    },
    {
      "cell_type": "markdown",
      "metadata": {
        "id": "87JNqWaDaqcl"
      },
      "source": [
        "So we are going to:\n",
        "\n",
        "- Create different regression models for the logarithm of the `SalePrice`\n",
        "- Drop columns with more than 20% missing values\n",
        "- Impute missing values using [`sklearn.impute.SimpleImputer`](https://scikit-learn.org/stable/modules/generated/sklearn.impute.SimpleImputer.html#sklearn.impute.SimpleImputer)\n",
        "  - 'median' for numerical features\n",
        "  - fill with 'missing' for categorical features\n",
        "- use [`OneHotEncoding`](https://scikit-learn.org/stable/modules/generated/sklearn.preprocessing.OneHotEncoder.html#sklearn.preprocessing.OneHotEncoder) for all categorical variables\n",
        "- use [`StandardScaler`](https://scikit-learn.org/stable/modules/generated/sklearn.preprocessing.StandardScaler.html#sklearn.preprocessing.StandardScaler) on numerical variables just to be sure.\n",
        "\n",
        "We are going to use [`sklearn.pipeline.Pipeline`](https://scikit-learn.org/stable/modules/generated/sklearn.pipeline.Pipeline.html) for our whole workflow. It is good practice to structure your ML project into separate pipelines for each model. This also allows for stacking models, as is explained in [this example by Guillaume Lemaitre in the sklearn documentation](https://scikit-learn.org/stable/auto_examples/ensemble/plot_stack_predictors.html#sphx-glr-auto-examples-ensemble-plot-stack-predictors-py).\n"
      ]
    },
    {
      "cell_type": "markdown",
      "metadata": {
        "id": "JrGljqIhwdlV"
      },
      "source": [
        "### Selecting columns by [`dtype`](https://numpy.org/doc/stable/reference/arrays.scalars.html) with [`df.select_dtypes`](https://pandas.pydata.org/pandas-docs/stable/reference/api/pandas.DataFrame.select_dtypes.html?highlight=select_dtype)"
      ]
    },
    {
      "cell_type": "code",
      "metadata": {
        "id": "n9xJT2cQjrzB"
      },
      "source": [
        "# prepare X and y, using log(SalePrice) throughout\n",
        "X = df_train[df_train.columns.difference(cols_to_drop).drop('SalePrice')]\n",
        "y = np.log(df_train['SalePrice'])\n",
        "\n",
        "# same for test set\n",
        "X_test = df_test[df_test.columns.difference(cols_to_drop).drop('SalePrice')]\n",
        "y_test = np.log(df_test['SalePrice'])\n",
        "\n",
        "# read https://numpy.org/doc/stable/reference/arrays.scalars.html\n",
        "# for understanding NumPy dtype hierarchy\n",
        "cat_cols = X.select_dtypes(include='category').columns\n",
        "num_cols = X.select_dtypes(include='number').columns"
      ],
      "execution_count": 13,
      "outputs": []
    },
    {
      "cell_type": "markdown",
      "metadata": {
        "id": "SZ_8oXPTwmAC"
      },
      "source": [
        "### Making a pipeline\n",
        "\n",
        "If you want to read more about pipelines, see [this blogpost by Ankit Goel](https://towardsdatascience.com/are-you-using-pipeline-in-scikit-learn-ac4cd85cb27f).\n",
        "\n",
        "If you have used `category` dtypes from the start, you can access the categories of each categorical column with [`pd.Series.cat`](https://pandas.pydata.org/pandas-docs/stable/reference/api/pandas.Series.cat.html?highlight=cat#pandas.Series.cat)."
      ]
    },
    {
      "cell_type": "code",
      "metadata": {
        "id": "cOq3w3G_lRdI"
      },
      "source": [
        "# need to explicitly define categories for pipeline\n",
        "for col in cat_cols:\n",
        "    # need to add category for missings, otherwise error with OneHotEncoding\n",
        "    X[col].cat.add_categories(MISSING, inplace=True)\n",
        "categories = [X[col].cat.categories for col in cat_cols]\n",
        "\n",
        "# combine all preprocessing for cat_cols in one pipeline\n",
        "preprocess_cat_cols = make_pipeline(\n",
        "    SimpleImputer(\n",
        "        missing_values = np.nan,\n",
        "        strategy='constant',\n",
        "        fill_value=MISSING),\n",
        "    OneHotEncoder(categories=categories)\n",
        ")\n",
        "\n",
        "# same for num_cols\n",
        "preprocess_num_cols = make_pipeline(\n",
        "    SimpleImputer(\n",
        "        missing_values=np.nan,\n",
        "        strategy='median'\n",
        "        ),\n",
        "    StandardScaler()\n",
        ")\n",
        "\n",
        "# compose dataset with make_column_transformer\n",
        "prepare_linear = make_column_transformer(\n",
        "    (preprocess_num_cols, num_cols),\n",
        "    (preprocess_cat_cols, cat_cols),\n",
        "    remainder='drop'\n",
        ")"
      ],
      "execution_count": 14,
      "outputs": []
    },
    {
      "cell_type": "markdown",
      "metadata": {
        "id": "JMlOk-N2_wM9"
      },
      "source": [
        "## Linear models\n",
        " "
      ]
    },
    {
      "cell_type": "markdown",
      "metadata": {
        "id": "IujAXWY8esMX"
      },
      "source": [
        "### [`sklearn.linear_model.LinearRegression`](https://scikit-learn.org/stable/modules/generated/sklearn.linear_model.LinearRegression.html#sklearn.linear_model.LinearRegression)"
      ]
    },
    {
      "cell_type": "code",
      "metadata": {
        "id": "YRqg8k8AvFLy"
      },
      "source": [
        "ols = make_pipeline(\n",
        "    prepare_linear,\n",
        "    LinearRegression()\n",
        "    )\n",
        "\n",
        "ols_score = cross_validate(\n",
        "    ols, X, y,\n",
        "    cv=10,\n",
        "    scoring=['neg_mean_squared_error'],\n",
        "    return_train_score=True,\n",
        "    return_estimator=True,\n",
        ")"
      ],
      "execution_count": 15,
      "outputs": []
    },
    {
      "cell_type": "code",
      "metadata": {
        "colab": {
          "base_uri": "https://localhost:8080/",
          "height": 279
        },
        "id": "9m8LH3viht8T",
        "outputId": "f7372876-760b-4b6f-d796-e31c049ac0ac"
      },
      "source": [
        "ols_ax = sns.scatterplot(\n",
        "    x=np.sqrt(-ols_score['train_neg_mean_squared_error']),\n",
        "    y=np.sqrt(-ols_score['test_neg_mean_squared_error']),\n",
        ")\n",
        "ols_ax.set(\n",
        "    xlabel='Train score from cross-validation',\n",
        "    ylabel='Test score from cross-validation',\n",
        ")\n",
        "plt.show()"
      ],
      "execution_count": 16,
      "outputs": [
        {
          "output_type": "display_data",
          "data": {
            "image/png": "[encoded data removed]",
            "text/plain": [
              "<Figure size 432x288 with 1 Axes>"
            ]
          },
          "metadata": {
            "tags": []
          }
        }
      ]
    },
    {
      "cell_type": "markdown",
      "metadata": {
        "id": "NQXzQDSTxcKM"
      },
      "source": [
        "We can conclude from this that we need more work: a low RMSLE on the training set results in the highest RMSLE for the validation set (and vice versa). This could mean we are overfitting. "
      ]
    },
    {
      "cell_type": "markdown",
      "metadata": {
        "id": "cHAVd_cP4QWF"
      },
      "source": [
        "Or is it maybe related to the remaining outliers in the dataset? If the cross-validation samples such that most outliers are in the cross-validation train dataset then the validation test results are probably going to be better and vice versa."
      ]
    },
    {
      "cell_type": "markdown",
      "metadata": {
        "id": "ts9NsJ3T4QWF"
      },
      "source": [
        "The best model for now is in the bottom right corner, with a test RMSLE of around 0.11. Let's check which estimator that is and do final scoring on test set."
      ]
    },
    {
      "cell_type": "code",
      "metadata": {
        "colab": {
          "base_uri": "https://localhost:8080/"
        },
        "id": "rZl5LhbV3uxc",
        "scrolled": true,
        "outputId": "98ac86f6-8b1c-421a-c85d-d267db488791"
      },
      "source": [
        "#\n",
        "# use np.argmax to find bottomright point == largest RMLSE on train and smallest on test from cross-validation, \n",
        "# but maybe not on X_test, y_test !\n",
        "#\n",
        "ols_best_index = np.argmax(np.sqrt(-ols_score['train_neg_mean_squared_error']))\n",
        "ols_best = ols_score['estimator'][ols_best_index]\n",
        "ols_best_rmsle = np.sqrt(mean_squared_error(y_test, ols_best.predict(X_test)))\n",
        "print(f\"Best OLS model based on CV scores:  RMLSE: {ols_best_rmsle:0.5f}\")"
      ],
      "execution_count": 17,
      "outputs": [
        {
          "output_type": "stream",
          "text": [
            "Best OLS model based on CV scores:  RMLSE: 0.13522\n"
          ],
          "name": "stdout"
        }
      ]
    },
    {
      "cell_type": "markdown",
      "metadata": {
        "id": "a0OGiaj14QWG"
      },
      "source": [
        "There might be a better model when evaluating score of y_test "
      ]
    },
    {
      "cell_type": "code",
      "metadata": {
        "colab": {
          "base_uri": "https://localhost:8080/"
        },
        "id": "or_7g-Lg4QWG",
        "outputId": "c8c6a5b3-ca39-4494-bb37-7df0e6b0e7a6"
      },
      "source": [
        "#\n",
        "# Look for better y_test score in 10 CV models \n",
        "#\n",
        "best_score = ols_best_rmsle\n",
        "\n",
        "for icount in range(0,10):\n",
        "    ols_best = ols_score['estimator'][icount]\n",
        "    ols_best_rmsle = np.sqrt(mean_squared_error(y_test, ols_best.predict(X_test)))\n",
        "    if ols_best_rmsle < best_score:\n",
        "        best_score = ols_best_rmsle\n",
        "        best_model_index = icount\n",
        "              \n",
        "print(f\"Best OLS model found index={best_model_index} =>  RMLSE: {best_score:0.5f}\\n\")"
      ],
      "execution_count": 18,
      "outputs": [
        {
          "output_type": "stream",
          "text": [
            "Best OLS model found index=1 =>  RMLSE: 0.12951\n",
            "\n"
          ],
          "name": "stdout"
        }
      ]
    },
    {
      "cell_type": "markdown",
      "metadata": {
        "id": "WVCk7uy63uxc"
      },
      "source": [
        "Best simple regression model with preparing the data just as the author instructed with no further feature engineering yields a RMSLE of 1.2951. Let's see where that gets us on the leaderboard."
      ]
    },
    {
      "cell_type": "code",
      "metadata": {
        "colab": {
          "base_uri": "https://localhost:8080/"
        },
        "id": "-pxWmDyr3uxc",
        "scrolled": true,
        "outputId": "d95018e9-2007-4e29-ef58-914cc2ef754d"
      },
      "source": [
        "leaderboard = pd.read_csv(LEADERBOARD).sort_values('Score').reset_index()\n",
        "leaderboard.Score.searchsorted(best_score)"
      ],
      "execution_count": 19,
      "outputs": [
        {
          "output_type": "execute_result",
          "data": {
            "text/plain": [
              "1607"
            ]
          },
          "metadata": {
            "tags": []
          },
          "execution_count": 19
        }
      ]
    },
    {
      "cell_type": "markdown",
      "metadata": {
        "id": "eLoWAp8X3uxd"
      },
      "source": [
        "Decent start. We are around 1607th place out of more that 5,000 entries. Up next: Some selective extra feature engineering to get to a better position. "
      ]
    },
    {
      "cell_type": "markdown",
      "metadata": {
        "id": "PlRIkn8y4QWK"
      },
      "source": [
        "# Linear models with some selective feature engineering\n",
        " "
      ]
    },
    {
      "cell_type": "markdown",
      "metadata": {
        "id": "U4cuAV-l4QWL"
      },
      "source": [
        "#### Selection of feature engineering steps by switching Booleans\n",
        "1. Deletion of irrelevant columns 'Order' and 'PID' \n",
        "2. Log transform of all numeric features with skew > 0.75 (excluding SalePrice which gets transformed later)\n",
        "3. Some additional feature engineering combining and creating features. Limited impact with Linear Regression but might be useful with Lasso or other models.   Other combinations of e.g. Gr Liv Area with Basement size could also be tried.\n",
        "4. Removal of abnormal sales from training dataset to test if a better model can be derived.\n",
        "5. Only keep Normal sales in training dataset to test if a better model can be derived.  "
      ]
    },
    {
      "cell_type": "code",
      "metadata": {
        "id": "Engj5EG44QWL"
      },
      "source": [
        "#\n",
        "# Select which feature engineering steps you would like to apply. Make sure to re-read the csv data when making changes to avoid error messages\n",
        "#\n",
        "del_cols = True\n",
        "log_transform = True\n",
        "add_location_feature = True\n",
        "# Choose one or none of the steps below\n",
        "remove_abnorml_sales = False\n",
        "keep_normal_sales = True\n",
        "\n",
        "# Read data again to start from beginning\n",
        "df = pd.read_csv(URL)\n",
        "\n",
        "# Remove 5 outliers as per description Ames Housing dataset\n",
        "df.drop(df[df['Gr Liv Area'] >= 4000].index, inplace=True)\n",
        "\n",
        "# use fillna for all columns where na means none\n",
        "cols_na_means_none = ['Alley',\n",
        "                 'Bsmt Qual',\n",
        "                 'Bsmt Cond',\n",
        "                 'BsmtFin Type 1',\n",
        "                 'BsmtFin Type 2',\n",
        "                 'Fireplace Qu',\n",
        "                 'Garage Type',\n",
        "                 'Garage Finish',\n",
        "                 'Garage Qual',\n",
        "                 'Garage Cond',\n",
        "                 'Pool QC',\n",
        "                 'Fence',\n",
        "                 'Garage Yr Blt',\n",
        "                 'Misc Feature']\n",
        "\n",
        "df.loc[:, cols_na_means_none] = df.loc[:, cols_na_means_none].fillna(value=NONE)\n"
      ],
      "execution_count": 20,
      "outputs": []
    },
    {
      "cell_type": "code",
      "metadata": {
        "colab": {
          "base_uri": "https://localhost:8080/"
        },
        "id": "u5MsCbae4QWL",
        "outputId": "1cb9dd02-a19f-4653-e173-6229ccb953e3"
      },
      "source": [
        "#\n",
        "# 1. Delete some irrelevant columns \n",
        "#\n",
        "if del_cols:\n",
        "    # Drop columns irrelevant 'Order' and 'PID' columns\n",
        "    df.drop(columns=['Order', 'PID'], inplace=True)\n",
        "    print(f\"Dropping columns 'Order' and 'PID'\")"
      ],
      "execution_count": 21,
      "outputs": [
        {
          "output_type": "stream",
          "text": [
            "Dropping columns 'Order' and 'PID'\n"
          ],
          "name": "stdout"
        }
      ]
    },
    {
      "cell_type": "code",
      "metadata": {
        "colab": {
          "base_uri": "https://localhost:8080/"
        },
        "id": "VAqJV_Sm4QWM",
        "outputId": "16c9ae45-e1fe-4e7e-ea64-81a4cd96981a"
      },
      "source": [
        "#\n",
        "# 2. log transform of features with skew > 0.75. This include SalePrice (no need to transform again later).\n",
        "#\n",
        "\n",
        "if log_transform:\n",
        "    # Determine numeric columns\n",
        "    num_cols = df.select_dtypes(include='number').columns\n",
        "\n",
        "    # Calculate skew for each numeric feature and select features with skew>0.75 \n",
        "    calc_skew_col = df[num_cols].skew()\n",
        "    skew_cols = list(calc_skew_col[calc_skew_col > 0.75].index)\n",
        "\n",
        "    # Remove SalePrice from the skew_cols list as it will be log-trasnformed separately\n",
        "    skew_cols.remove('SalePrice')\n",
        "\n",
        "    print(f\"Log transforming following features: {skew_cols}\")\n",
        "    for column in skew_cols:\n",
        "        df.loc[:,column] = np.log(df[column]+0.00000001)"
      ],
      "execution_count": 22,
      "outputs": [
        {
          "output_type": "stream",
          "text": [
            "Log transforming following features: ['MS SubClass', 'Lot Frontage', 'Lot Area', 'Mas Vnr Area', 'BsmtFin SF 1', 'BsmtFin SF 2', 'Bsmt Unf SF', '1st Flr SF', '2nd Flr SF', 'Low Qual Fin SF', 'Gr Liv Area', 'Bsmt Half Bath', 'Kitchen AbvGr', 'Wood Deck SF', 'Open Porch SF', 'Enclosed Porch', '3Ssn Porch', 'Screen Porch', 'Pool Area', 'Misc Val']\n"
          ],
          "name": "stdout"
        }
      ]
    },
    {
      "cell_type": "code",
      "metadata": {
        "colab": {
          "base_uri": "https://localhost:8080/"
        },
        "id": "-cn9VxOD4QWM",
        "outputId": "3bc18e9f-826e-4efb-8627-5fbad55f51fd"
      },
      "source": [
        "#\n",
        "# 3. Some additional feature engineering combining and creating features based on analysis in example notebooks: \n",
        "#    https://github.com/at-tan/Ames_housing_OLS/blob/master/Ames_housing_I.ipynb\n",
        "#    https://www.kaggle.com/agodwinp/stacking-house-prices-walkthrough-to-top-5\n",
        "#\n",
        "#   Other combinations of e.g. Gr Liv Area with Basement size could also be tried.\n",
        "#\n",
        "if add_location_feature:\n",
        "     print(f\"Combining/creating features\")\n",
        "     def add_location(x):\n",
        "        if 'MeadowV' in x or 'Edwards' in x or 'Sawyer' in x or 'IDOTRR' in x or 'Brkside' in x or 'BrDale' in x:\n",
        "            return 1\n",
        "        elif 'Swisu' in x or 'Mitchel' in x or 'NAmes' in x or 'NPkVill' in x or 'ClearCr' in x or 'OldTown' in x or 'SawyerW' in x:\n",
        "            return 2\n",
        "        elif 'Gilbert' in x or 'NWAmes' in x or 'Blueste' in x or 'CollgCr' in x or 'Timber' in x or 'Crawfor' in x:\n",
        "            return 3\n",
        "        else:\n",
        "            return 4\n",
        "     df['Location'] = df.Neighborhood.map(add_location)  \n",
        "\n",
        "     df['TotalBathrooms'] = df['Bsmt Half Bath'] + df['Bsmt Full Bath'] + df['Half Bath'] + df['Full Bath']\n",
        "     columns = ['Bsmt Half Bath', 'Bsmt Full Bath', 'Half Bath', 'Full Bath']\n",
        "     df.drop(columns, axis=1, inplace=True)\n",
        "\n",
        "     df['Remod_Diff'] = df['Year Remod/Add'] - df['Year Built']\n",
        "     df.drop('Year Remod/Add', axis=1, inplace=True)\n",
        "\n",
        "     df['TotalPorchSF'] = df['Open Porch SF'] + df['Open Porch SF'] + df['Enclosed Porch'] + df['3Ssn Porch'] + df['Screen Porch'] \n",
        "     def PorchFlag(col):\n",
        "       if col['TotalPorchSF'] == 0:\n",
        "         return 1\n",
        "       else:\n",
        "        return 0\n",
        "     df['NoPorch_Flag'] = df.apply(PorchFlag, axis=1)\n",
        "\n",
        "     def PoolFlag(col):\n",
        "       if col['Pool Area'] == 0:\n",
        "         return 0\n",
        "       else:\n",
        "         return 1\n",
        "    \n",
        "     df['HasPool_Flag'] = df.apply(PoolFlag, axis=1)\n",
        "     \n"
      ],
      "execution_count": 23,
      "outputs": [
        {
          "output_type": "stream",
          "text": [
            "Combining/creating features\n"
          ],
          "name": "stdout"
        }
      ]
    },
    {
      "cell_type": "code",
      "metadata": {
        "scrolled": true,
        "id": "9q-RLbtk4QWN"
      },
      "source": [
        "# objects to categorical\n",
        "df[df.select_dtypes(include='object').columns] = df.select_dtypes(include='object').astype('category')"
      ],
      "execution_count": 24,
      "outputs": []
    },
    {
      "cell_type": "markdown",
      "metadata": {
        "id": "M6PiXI7u4QWN"
      },
      "source": [
        "N.B. Split test and train datasets with test_size=0.5 to compare apples to apples with Kaggle competition where train and test datasets are 50-50 split. Set a random_state=42 to ensure results are the same for each run."
      ]
    },
    {
      "cell_type": "code",
      "metadata": {
        "id": "rAW9cYSf4QWN"
      },
      "source": [
        "# no data snooping N.B. Select test_size=0.5 to compare apples to apples with Kaggle competition where train and test datasets\n",
        "# are 50-50 split. Set a random_state to ensure results are the same for each run. \n",
        "df_train, df_test = train_test_split(df, test_size=0.5, random_state=42)"
      ],
      "execution_count": 25,
      "outputs": []
    },
    {
      "cell_type": "code",
      "metadata": {
        "id": "XVlAmguM4QWN"
      },
      "source": [
        "#\n",
        "# 4. Remove abnormal sales from data_train dataframe. So determine model on dataset without these sales but do not remove from test\n",
        "#\n",
        "\n",
        "if remove_abnorml_sales:\n",
        "    # Remove all Sales with Sale Condition = 'Abnorml' \n",
        "    before_shape = df_train.shape[0] \n",
        "    df_train.drop(df_train[df_train['Sale Condition'] == 'Abnorml'].index, inplace=True)\n",
        "    print(f\"\\nRemoved {before_shape-df_train.shape[0]} rows with 'Abnorml' Sale Condition from training dataset\\n\")"
      ],
      "execution_count": 26,
      "outputs": []
    },
    {
      "cell_type": "code",
      "metadata": {
        "colab": {
          "base_uri": "https://localhost:8080/"
        },
        "id": "7iJg1Veh4QWN",
        "outputId": "4791b3b1-cac6-4e49-daa2-85eaf0110f21"
      },
      "source": [
        "#\n",
        "# 5. Only select normal sales for data_train dataframe. So determine model on dataset without other sales but do not remove from test\n",
        "#\n",
        "\n",
        "if keep_normal_sales:\n",
        "    # Remove all Sales with Sale Condition =  \n",
        "    before_shape = df_train.shape[0] \n",
        "    df_train.drop(df_train[df_train['Sale Condition'] != 'Normal'  ].index, inplace=True)\n",
        "    print(f\"\\nRemoved {before_shape-df_train.shape[0]} rows with Non-'Normal' Sale Condition from training dataset\\n\")"
      ],
      "execution_count": 27,
      "outputs": [
        {
          "output_type": "stream",
          "text": [
            "\n",
            "Removed 257 rows with Non-'Normal' Sale Condition from training dataset\n",
            "\n"
          ],
          "name": "stdout"
        },
        {
          "output_type": "stream",
          "text": [
            "/usr/local/lib/python3.6/dist-packages/pandas/core/frame.py:4174: SettingWithCopyWarning: \n",
            "A value is trying to be set on a copy of a slice from a DataFrame\n",
            "\n",
            "See the caveats in the documentation: https://pandas.pydata.org/pandas-docs/stable/user_guide/indexing.html#returning-a-view-versus-a-copy\n",
            "  errors=errors,\n"
          ],
          "name": "stderr"
        }
      ]
    },
    {
      "cell_type": "code",
      "metadata": {
        "id": "s49IdUmg4QWO"
      },
      "source": [
        "# prepare X and y, using log(SalePrice) throughout\n",
        "X = df_train[df_train.columns.difference(cols_to_drop).drop('SalePrice')]\n",
        "y = np.log(df_train['SalePrice'])\n",
        "\n",
        "# same for test set\n",
        "X_test = df_test.drop(columns=['SalePrice'])\n",
        "y_test = np.log(df_test['SalePrice'])\n",
        "\n",
        "# read https://numpy.org/doc/stable/reference/arrays.scalars.html\n",
        "# for understanding NumPy dtype hierarchy\n",
        "cat_cols = X.select_dtypes(include='category').columns\n",
        "num_cols = X.select_dtypes(include='number').columns"
      ],
      "execution_count": 28,
      "outputs": []
    },
    {
      "cell_type": "markdown",
      "metadata": {
        "id": "MWOp6GCP4QWO"
      },
      "source": [
        "### Making a pipeline\n",
        "\n",
        "If you want to read more about pipelines, see [this blogpost by Ankit Goel](https://towardsdatascience.com/are-you-using-pipeline-in-scikit-learn-ac4cd85cb27f).\n",
        "\n",
        "If you have used `category` dtypes from the start, you can access the categories of each categorical column with [`pd.Series.cat`](https://pandas.pydata.org/pandas-docs/stable/reference/api/pandas.Series.cat.html?highlight=cat#pandas.Series.cat)."
      ]
    },
    {
      "cell_type": "code",
      "metadata": {
        "id": "W8md1duu4QWO"
      },
      "source": [
        "# need to explicitly define categories for pipeline\n",
        "for col in cat_cols:\n",
        "    # need to add category for missings, otherwise error with OneHotEncoding\n",
        "    X[col].cat.add_categories(MISSING, inplace=True)\n",
        "categories = [X[col].cat.categories for col in cat_cols]\n",
        "\n",
        "# combine all preprocessing for cat_cols in one pipeline\n",
        "preprocess_cat_cols = make_pipeline(\n",
        "    SimpleImputer(\n",
        "        missing_values = np.nan,\n",
        "        strategy='constant',\n",
        "        fill_value=MISSING),\n",
        "    OneHotEncoder(categories=categories)\n",
        ")\n",
        "\n",
        "# same for num_cols\n",
        "preprocess_num_cols = make_pipeline(\n",
        "    SimpleImputer(\n",
        "        missing_values=np.nan,\n",
        "        strategy='median'\n",
        "        ),\n",
        "    StandardScaler()\n",
        ")\n",
        "\n",
        "# compose dataset with make_column_transformer\n",
        "prepare_linear = make_column_transformer(\n",
        "    (preprocess_num_cols, num_cols),\n",
        "    (preprocess_cat_cols, cat_cols),\n",
        "    remainder='drop'\n",
        ")"
      ],
      "execution_count": 29,
      "outputs": []
    },
    {
      "cell_type": "code",
      "metadata": {
        "id": "qdOJCXBV4QWO"
      },
      "source": [
        "ols = make_pipeline(\n",
        "    prepare_linear,\n",
        "    LinearRegression()\n",
        "    )\n",
        "ols_score = cross_validate(\n",
        "    ols, X, y,\n",
        "    cv=10,\n",
        "    scoring=['neg_mean_squared_error'],\n",
        "    return_train_score=True,\n",
        "    return_estimator=True,\n",
        ")"
      ],
      "execution_count": 30,
      "outputs": []
    },
    {
      "cell_type": "code",
      "metadata": {
        "colab": {
          "base_uri": "https://localhost:8080/"
        },
        "id": "ZzueS9BJ4QWO",
        "outputId": "fc7d1772-ab56-4ca6-ae7a-49c1af76f4db"
      },
      "source": [
        "# Look for best X_test y_test score in 10 CV models \n",
        "best_score = 999\n",
        "\n",
        "for icount in range(0,10):\n",
        "    ols_best = ols_score['estimator'][icount]\n",
        "    ols_best_rmsle = np.sqrt(mean_squared_error(y_test, ols_best.predict(X_test)))\n",
        "    if ols_best_rmsle < best_score:\n",
        "        best_score = ols_best_rmsle\n",
        "        best_model_index = icount\n",
        "\n",
        "print(f\"\\n Best OLS model found index={best_model_index} =>  RMLSE: {best_score:0.5f}\\n\")"
      ],
      "execution_count": 31,
      "outputs": [
        {
          "output_type": "stream",
          "text": [
            "/usr/local/lib/python3.6/dist-packages/sklearn/compose/_column_transformer.py:440: FutureWarning: Given feature/column names or counts do not match the ones for the data given during fit. This will fail from v0.24.\n",
            "  FutureWarning)\n",
            "/usr/local/lib/python3.6/dist-packages/sklearn/compose/_column_transformer.py:440: FutureWarning: Given feature/column names or counts do not match the ones for the data given during fit. This will fail from v0.24.\n",
            "  FutureWarning)\n",
            "/usr/local/lib/python3.6/dist-packages/sklearn/compose/_column_transformer.py:440: FutureWarning: Given feature/column names or counts do not match the ones for the data given during fit. This will fail from v0.24.\n",
            "  FutureWarning)\n",
            "/usr/local/lib/python3.6/dist-packages/sklearn/compose/_column_transformer.py:440: FutureWarning: Given feature/column names or counts do not match the ones for the data given during fit. This will fail from v0.24.\n",
            "  FutureWarning)\n",
            "/usr/local/lib/python3.6/dist-packages/sklearn/compose/_column_transformer.py:440: FutureWarning: Given feature/column names or counts do not match the ones for the data given during fit. This will fail from v0.24.\n",
            "  FutureWarning)\n",
            "/usr/local/lib/python3.6/dist-packages/sklearn/compose/_column_transformer.py:440: FutureWarning: Given feature/column names or counts do not match the ones for the data given during fit. This will fail from v0.24.\n",
            "  FutureWarning)\n",
            "/usr/local/lib/python3.6/dist-packages/sklearn/compose/_column_transformer.py:440: FutureWarning: Given feature/column names or counts do not match the ones for the data given during fit. This will fail from v0.24.\n",
            "  FutureWarning)\n",
            "/usr/local/lib/python3.6/dist-packages/sklearn/compose/_column_transformer.py:440: FutureWarning: Given feature/column names or counts do not match the ones for the data given during fit. This will fail from v0.24.\n",
            "  FutureWarning)\n",
            "/usr/local/lib/python3.6/dist-packages/sklearn/compose/_column_transformer.py:440: FutureWarning: Given feature/column names or counts do not match the ones for the data given during fit. This will fail from v0.24.\n",
            "  FutureWarning)\n",
            "/usr/local/lib/python3.6/dist-packages/sklearn/compose/_column_transformer.py:440: FutureWarning: Given feature/column names or counts do not match the ones for the data given during fit. This will fail from v0.24.\n",
            "  FutureWarning)\n"
          ],
          "name": "stderr"
        },
        {
          "output_type": "stream",
          "text": [
            "\n",
            " Best OLS model found index=3 =>  RMLSE: 0.11558\n",
            "\n"
          ],
          "name": "stdout"
        }
      ]
    },
    {
      "cell_type": "markdown",
      "metadata": {
        "id": "oUMsvv0s4QWO"
      },
      "source": [
        "## Results\n",
        "\n",
        "The 5 different feature engineering steps result in the following improved RMSLE. \n",
        "\n",
        "No additional feature engineering:  RMSLE 0.12951.  \n",
        "1. Deletion of irrelevant columns 'Order' and 'PID'.  RMSLE 0.13033  Surprising to see the score deteriorate. \n",
        "2. Log transform of all numeric features with skew > 0.75 (excluding SalePrice which gets transformed later) RMSLE 0.12341. Clear improvement. \n",
        "3. Some additional feature engineering combining and creating features. RMSLE 0.12862. Limited impact with Linear Regression but might be useful with Lasso or other models. Other combinations of e.g. Gr Liv Area with Basement size could also be tried. \n",
        "4. Removal of abnormal sales from training dataset to test if a better model can be derived. RMSLE 0.12697. Small step forward. Possibly related to removed outliers.\n",
        "5. Only keep Normal sales in training dataset to test if a better model can be derived. RMSLE 0.12358. Additional improvement compared to just removing Abnormal Sales. \n",
        "\n",
        "\n",
        "Combining steps 1+2+3+5 results in the best RMSLE of 0.11558. Let's see where that gets us on the leaderboard."
      ]
    },
    {
      "cell_type": "code",
      "metadata": {
        "colab": {
          "base_uri": "https://localhost:8080/"
        },
        "scrolled": true,
        "id": "jfMTS_Kt4QWO",
        "outputId": "0cf895c8-2331-4f85-83b9-ad453ec96017"
      },
      "source": [
        "leaderboard = pd.read_csv(LEADERBOARD).sort_values('Score').reset_index()\n",
        "leaderboard.Score.searchsorted(best_score)"
      ],
      "execution_count": 32,
      "outputs": [
        {
          "output_type": "execute_result",
          "data": {
            "text/plain": [
              "158"
            ]
          },
          "metadata": {
            "tags": []
          },
          "execution_count": 32
        }
      ]
    },
    {
      "cell_type": "markdown",
      "metadata": {
        "id": "xR9-Uo2j4QWP"
      },
      "source": [
        "### Excellent improvement. We are now at the 158th place out of more that 5,000 entries. Up next: Lasso  "
      ]
    },
    {
      "cell_type": "markdown",
      "metadata": {
        "id": "ETgxS6pPzZGg"
      },
      "source": [
        "### [`sklearn.linear_model.LassoCV`](https://scikit-learn.org/stable/modules/generated/sklearn.linear_model.LassoCV.html?highlight=lasso#sklearn.linear_model.LassoCV)\n",
        "\n",
        "We use `LassoCV` so we can do cross-validation directly."
      ]
    },
    {
      "cell_type": "code",
      "metadata": {
        "colab": {
          "base_uri": "https://localhost:8080/",
          "height": 193
        },
        "id": "HfFRC0Q80PB6",
        "outputId": "f2fe207e-e771-4dfc-9ecd-ad8601084580"
      },
      "source": [
        "lasso = make_pipeline(\n",
        "    prepare_linear,\n",
        "    LassoCV(cv=5)\n",
        ").fit(X, y)\n",
        "lasso"
      ],
      "execution_count": 33,
      "outputs": [
        {
          "output_type": "execute_result",
          "data": {
            "text/html": [
              "<style>div.sk-top-container {color: black;background-color: white;}div.sk-toggleable {background-color: white;}label.sk-toggleable__label {cursor: pointer;display: block;width: 100%;margin-bottom: 0;padding: 0.2em 0.3em;box-sizing: border-box;text-align: center;}div.sk-toggleable__content {max-height: 0;max-width: 0;overflow: hidden;text-align: left;background-color: #f0f8ff;}div.sk-toggleable__content pre {margin: 0.2em;color: black;border-radius: 0.25em;background-color: #f0f8ff;}input.sk-toggleable__control:checked~div.sk-toggleable__content {max-height: 200px;max-width: 100%;overflow: auto;}div.sk-estimator input.sk-toggleable__control:checked~label.sk-toggleable__label {background-color: #d4ebff;}div.sk-label input.sk-toggleable__control:checked~label.sk-toggleable__label {background-color: #d4ebff;}input.sk-hidden--visually {border: 0;clip: rect(1px 1px 1px 1px);clip: rect(1px, 1px, 1px, 1px);height: 1px;margin: -1px;overflow: hidden;padding: 0;position: absolute;width: 1px;}div.sk-estimator {font-family: monospace;background-color: #f0f8ff;margin: 0.25em 0.25em;border: 1px dotted black;border-radius: 0.25em;box-sizing: border-box;}div.sk-estimator:hover {background-color: #d4ebff;}div.sk-parallel-item::after {content: \"\";width: 100%;border-bottom: 1px solid gray;flex-grow: 1;}div.sk-label:hover label.sk-toggleable__label {background-color: #d4ebff;}div.sk-serial::before {content: \"\";position: absolute;border-left: 1px solid gray;box-sizing: border-box;top: 2em;bottom: 0;left: 50%;}div.sk-serial {display: flex;flex-direction: column;align-items: center;background-color: white;}div.sk-item {z-index: 1;}div.sk-parallel {display: flex;align-items: stretch;justify-content: center;background-color: white;}div.sk-parallel-item {display: flex;flex-direction: column;position: relative;background-color: white;}div.sk-parallel-item:first-child::after {align-self: flex-end;width: 50%;}div.sk-parallel-item:last-child::after {align-self: flex-start;width: 50%;}div.sk-parallel-item:only-child::after {width: 0;}div.sk-dashed-wrapped {border: 1px dashed gray;margin: 0.2em;box-sizing: border-box;padding-bottom: 0.1em;background-color: white;position: relative;}div.sk-label label {font-family: monospace;font-weight: bold;background-color: white;display: inline-block;line-height: 1.2em;}div.sk-label-container {position: relative;z-index: 2;text-align: center;}div.sk-container {display: inline-block;position: relative;}</style><div class=\"sk-top-container\"><div class=\"sk-container\"><div class=\"sk-item sk-dashed-wrapped\"><div class=\"sk-label-container\"><div class=\"sk-label sk-toggleable\"><input class=\"sk-toggleable__control sk-hidden--visually\" id=\"0403ced2-b70f-446f-96a3-667ec79357db\" type=\"checkbox\" ><label class=\"sk-toggleable__label\" for=\"0403ced2-b70f-446f-96a3-667ec79357db\">Pipeline</label><div class=\"sk-toggleable__content\"><pre>Pipeline(steps=[('columntransformer',\n",
              "                 ColumnTransformer(transformers=[('pipeline-1',\n",
              "                                                  Pipeline(steps=[('simpleimputer',\n",
              "                                                                   SimpleImputer(strategy='median')),\n",
              "                                                                  ('standardscaler',\n",
              "                                                                   StandardScaler())]),\n",
              "                                                  Index(['1st Flr SF', '2nd Flr SF', '3Ssn Porch', 'Bedroom AbvGr',\n",
              "       'Bsmt Unf SF', 'BsmtFin SF 1', 'BsmtFin SF 2', 'Enclosed Porch',\n",
              "       'Fireplaces', 'Garage Area', 'Garage Cars', 'Gr Liv Area',\n",
              "       '...\n",
              "       'Garage Cond', 'Garage Finish', 'Garage Qual', 'Garage Type',\n",
              "       'Garage Yr Blt', 'Heating', 'Heating QC', 'House Style', 'Kitchen Qual',\n",
              "       'Land Contour', 'Land Slope', 'Lot Config', 'Lot Shape', 'MS Zoning',\n",
              "       'Mas Vnr Type', 'Misc Feature', 'Neighborhood', 'Paved Drive',\n",
              "       'Pool QC', 'Roof Matl', 'Roof Style', 'Sale Condition', 'Sale Type',\n",
              "       'Street', 'Utilities'],\n",
              "      dtype='object'))])),\n",
              "                ('lassocv', LassoCV(cv=5))])</pre></div></div></div><div class=\"sk-serial\"><div class=\"sk-item sk-dashed-wrapped\"><div class=\"sk-label-container\"><div class=\"sk-label sk-toggleable\"><input class=\"sk-toggleable__control sk-hidden--visually\" id=\"803adf81-c17e-40ef-86cb-6f798a925ef2\" type=\"checkbox\" ><label class=\"sk-toggleable__label\" for=\"803adf81-c17e-40ef-86cb-6f798a925ef2\">columntransformer: ColumnTransformer</label><div class=\"sk-toggleable__content\"><pre>ColumnTransformer(transformers=[('pipeline-1',\n",
              "                                 Pipeline(steps=[('simpleimputer',\n",
              "                                                  SimpleImputer(strategy='median')),\n",
              "                                                 ('standardscaler',\n",
              "                                                  StandardScaler())]),\n",
              "                                 Index(['1st Flr SF', '2nd Flr SF', '3Ssn Porch', 'Bedroom AbvGr',\n",
              "       'Bsmt Unf SF', 'BsmtFin SF 1', 'BsmtFin SF 2', 'Enclosed Porch',\n",
              "       'Fireplaces', 'Garage Area', 'Garage Cars', 'Gr Liv Area',\n",
              "       'HasPool_Flag', 'Kitchen AbvGr', 'Locatio...\n",
              "       'Exterior 2nd', 'Fence', 'Fireplace Qu', 'Foundation', 'Functional',\n",
              "       'Garage Cond', 'Garage Finish', 'Garage Qual', 'Garage Type',\n",
              "       'Garage Yr Blt', 'Heating', 'Heating QC', 'House Style', 'Kitchen Qual',\n",
              "       'Land Contour', 'Land Slope', 'Lot Config', 'Lot Shape', 'MS Zoning',\n",
              "       'Mas Vnr Type', 'Misc Feature', 'Neighborhood', 'Paved Drive',\n",
              "       'Pool QC', 'Roof Matl', 'Roof Style', 'Sale Condition', 'Sale Type',\n",
              "       'Street', 'Utilities'],\n",
              "      dtype='object'))])</pre></div></div></div><div class=\"sk-parallel\"><div class=\"sk-parallel-item\"><div class=\"sk-item\"><div class=\"sk-label-container\"><div class=\"sk-label sk-toggleable\"><input class=\"sk-toggleable__control sk-hidden--visually\" id=\"f07c98ef-567d-4934-8b43-2b9db5847868\" type=\"checkbox\" ><label class=\"sk-toggleable__label\" for=\"f07c98ef-567d-4934-8b43-2b9db5847868\">pipeline-1</label><div class=\"sk-toggleable__content\"><pre>Index(['1st Flr SF', '2nd Flr SF', '3Ssn Porch', 'Bedroom AbvGr',\n",
              "       'Bsmt Unf SF', 'BsmtFin SF 1', 'BsmtFin SF 2', 'Enclosed Porch',\n",
              "       'Fireplaces', 'Garage Area', 'Garage Cars', 'Gr Liv Area',\n",
              "       'HasPool_Flag', 'Kitchen AbvGr', 'Location', 'Lot Area', 'Lot Frontage',\n",
              "       'Low Qual Fin SF', 'MS SubClass', 'Mas Vnr Area', 'Misc Val', 'Mo Sold',\n",
              "       'NoPorch_Flag', 'Open Porch SF', 'Overall Cond', 'Overall Qual',\n",
              "       'Pool Area', 'Remod_Diff', 'Screen Porch', 'TotRms AbvGrd',\n",
              "       'Total Bsmt SF', 'TotalBathrooms', 'TotalPorchSF', 'Wood Deck SF',\n",
              "       'Year Built', 'Yr Sold'],\n",
              "      dtype='object')</pre></div></div></div><div class=\"sk-serial\"><div class=\"sk-item\"><div class=\"sk-serial\"><div class=\"sk-item\"><div class=\"sk-estimator sk-toggleable\"><input class=\"sk-toggleable__control sk-hidden--visually\" id=\"bbc78803-146c-4447-80fe-130a69f7fb23\" type=\"checkbox\" ><label class=\"sk-toggleable__label\" for=\"bbc78803-146c-4447-80fe-130a69f7fb23\">SimpleImputer</label><div class=\"sk-toggleable__content\"><pre>SimpleImputer(strategy='median')</pre></div></div></div><div class=\"sk-item\"><div class=\"sk-estimator sk-toggleable\"><input class=\"sk-toggleable__control sk-hidden--visually\" id=\"6ee436cf-b28e-40e4-a240-8572876f1b48\" type=\"checkbox\" ><label class=\"sk-toggleable__label\" for=\"6ee436cf-b28e-40e4-a240-8572876f1b48\">StandardScaler</label><div class=\"sk-toggleable__content\"><pre>StandardScaler()</pre></div></div></div></div></div></div></div></div><div class=\"sk-parallel-item\"><div class=\"sk-item\"><div class=\"sk-label-container\"><div class=\"sk-label sk-toggleable\"><input class=\"sk-toggleable__control sk-hidden--visually\" id=\"7caa24fe-d1a5-4c6a-89f8-8e1e1131f4b5\" type=\"checkbox\" ><label class=\"sk-toggleable__label\" for=\"7caa24fe-d1a5-4c6a-89f8-8e1e1131f4b5\">pipeline-2</label><div class=\"sk-toggleable__content\"><pre>Index(['Alley', 'Bldg Type', 'Bsmt Cond', 'Bsmt Exposure', 'Bsmt Qual',\n",
              "       'BsmtFin Type 1', 'BsmtFin Type 2', 'Central Air', 'Condition 1',\n",
              "       'Condition 2', 'Electrical', 'Exter Cond', 'Exter Qual', 'Exterior 1st',\n",
              "       'Exterior 2nd', 'Fence', 'Fireplace Qu', 'Foundation', 'Functional',\n",
              "       'Garage Cond', 'Garage Finish', 'Garage Qual', 'Garage Type',\n",
              "       'Garage Yr Blt', 'Heating', 'Heating QC', 'House Style', 'Kitchen Qual',\n",
              "       'Land Contour', 'Land Slope', 'Lot Config', 'Lot Shape', 'MS Zoning',\n",
              "       'Mas Vnr Type', 'Misc Feature', 'Neighborhood', 'Paved Drive',\n",
              "       'Pool QC', 'Roof Matl', 'Roof Style', 'Sale Condition', 'Sale Type',\n",
              "       'Street', 'Utilities'],\n",
              "      dtype='object')</pre></div></div></div><div class=\"sk-serial\"><div class=\"sk-item\"><div class=\"sk-serial\"><div class=\"sk-item\"><div class=\"sk-estimator sk-toggleable\"><input class=\"sk-toggleable__control sk-hidden--visually\" id=\"e738c95e-ba69-40f3-bb36-25fe2b7651c6\" type=\"checkbox\" ><label class=\"sk-toggleable__label\" for=\"e738c95e-ba69-40f3-bb36-25fe2b7651c6\">SimpleImputer</label><div class=\"sk-toggleable__content\"><pre>SimpleImputer(fill_value='missing', strategy='constant')</pre></div></div></div><div class=\"sk-item\"><div class=\"sk-estimator sk-toggleable\"><input class=\"sk-toggleable__control sk-hidden--visually\" id=\"9add8ac3-b5a4-4e48-a6c0-01bb97375f20\" type=\"checkbox\" ><label class=\"sk-toggleable__label\" for=\"9add8ac3-b5a4-4e48-a6c0-01bb97375f20\">OneHotEncoder</label><div class=\"sk-toggleable__content\"><pre>OneHotEncoder(categories=[Index(['Grvl', 'Pave', 'not present', 'missing'], dtype='object'),\n",
              "                          Index(['1Fam', '2fmCon', 'Duplex', 'Twnhs', 'TwnhsE', 'missing'], dtype='object'),\n",
              "                          Index(['Ex', 'Fa', 'Gd', 'Po', 'TA', 'not present', 'missing'], dtype='object'),\n",
              "                          Index(['Av', 'Gd', 'Mn', 'No', 'missing'], dtype='object'),\n",
              "                          Index(['Ex', 'Fa', 'Gd', 'Po', 'TA', 'not present', 'missing'], dtype...\n",
              "                          Index(['Floor', 'GasA', 'GasW', 'Grav', 'OthW', 'Wall', 'missing'], dtype='object'),\n",
              "                          Index(['Ex', 'Fa', 'Gd', 'Po', 'TA', 'missing'], dtype='object'),\n",
              "                          Index(['1.5Fin', '1.5Unf', '1Story', '2.5Fin', '2.5Unf', '2Story', 'SFoyer',\n",
              "       'SLvl', 'missing'],\n",
              "      dtype='object'),\n",
              "                          Index(['Ex', 'Fa', 'Gd', 'Po', 'TA', 'missing'], dtype='object'),\n",
              "                          Index(['Bnk', 'HLS', 'Low', 'Lvl', 'missing'], dtype='object'),\n",
              "                          Index(['Gtl', 'Mod', 'Sev', 'missing'], dtype='object'), ...])</pre></div></div></div></div></div></div></div></div></div></div><div class=\"sk-item\"><div class=\"sk-estimator sk-toggleable\"><input class=\"sk-toggleable__control sk-hidden--visually\" id=\"ffcfccf7-820f-4029-90f3-9f2324a72e08\" type=\"checkbox\" ><label class=\"sk-toggleable__label\" for=\"ffcfccf7-820f-4029-90f3-9f2324a72e08\">LassoCV</label><div class=\"sk-toggleable__content\"><pre>LassoCV(cv=5)</pre></div></div></div></div></div></div></div>"
            ],
            "text/plain": [
              "Pipeline(steps=[('columntransformer',\n",
              "                 ColumnTransformer(transformers=[('pipeline-1',\n",
              "                                                  Pipeline(steps=[('simpleimputer',\n",
              "                                                                   SimpleImputer(strategy='median')),\n",
              "                                                                  ('standardscaler',\n",
              "                                                                   StandardScaler())]),\n",
              "                                                  Index(['1st Flr SF', '2nd Flr SF', '3Ssn Porch', 'Bedroom AbvGr',\n",
              "       'Bsmt Unf SF', 'BsmtFin SF 1', 'BsmtFin SF 2', 'Enclosed Porch',\n",
              "       'Fireplaces', 'Garage Area', 'Garage Cars', 'Gr Liv Area',\n",
              "       '...\n",
              "       'Garage Cond', 'Garage Finish', 'Garage Qual', 'Garage Type',\n",
              "       'Garage Yr Blt', 'Heating', 'Heating QC', 'House Style', 'Kitchen Qual',\n",
              "       'Land Contour', 'Land Slope', 'Lot Config', 'Lot Shape', 'MS Zoning',\n",
              "       'Mas Vnr Type', 'Misc Feature', 'Neighborhood', 'Paved Drive',\n",
              "       'Pool QC', 'Roof Matl', 'Roof Style', 'Sale Condition', 'Sale Type',\n",
              "       'Street', 'Utilities'],\n",
              "      dtype='object'))])),\n",
              "                ('lassocv', LassoCV(cv=5))])"
            ]
          },
          "metadata": {
            "tags": []
          },
          "execution_count": 33
        }
      ]
    },
    {
      "cell_type": "code",
      "metadata": {
        "id": "Tc2Rd2ft4yUg"
      },
      "source": [
        "# get column names of OneHotEncoded categorical columns\n",
        "# see https://stackoverflow.com/questions/54646709/sklearn-pipeline-get-feature-names-after-onehotencode-in-columntransformer\n",
        "onehot_features = lasso['columntransformer'].named_transformers_['pipeline-2'].named_steps['onehotencoder'].get_feature_names(cat_cols)"
      ],
      "execution_count": 34,
      "outputs": []
    },
    {
      "cell_type": "code",
      "metadata": {
        "colab": {
          "base_uri": "https://localhost:8080/",
          "height": 824
        },
        "id": "wyIdgXrB_1sD",
        "outputId": "3f1bd74d-fac3-495d-ce8e-6573fa320682"
      },
      "source": [
        "lasso_coef_ = (pd.DataFrame(\n",
        "    {'feature': np.concatenate([num_cols.values, onehot_features]),\n",
        "     'coef_': lasso['lassocv'].coef_,\n",
        "     'coef_abs': np.abs(lasso['lassocv'].coef_)})\n",
        "    .sort_values('coef_abs', ascending=False)\n",
        ")\n",
        "lasso_coef_.head(25)"
      ],
      "execution_count": 35,
      "outputs": [
        {
          "output_type": "execute_result",
          "data": {
            "text/html": [
              "<div>\n",
              "<style scoped>\n",
              "    .dataframe tbody tr th:only-of-type {\n",
              "        vertical-align: middle;\n",
              "    }\n",
              "\n",
              "    .dataframe tbody tr th {\n",
              "        vertical-align: top;\n",
              "    }\n",
              "\n",
              "    .dataframe thead th {\n",
              "        text-align: right;\n",
              "    }\n",
              "</style>\n",
              "<table border=\"1\" class=\"dataframe\">\n",
              "  <thead>\n",
              "    <tr style=\"text-align: right;\">\n",
              "      <th></th>\n",
              "      <th>feature</th>\n",
              "      <th>coef_</th>\n",
              "      <th>coef_abs</th>\n",
              "    </tr>\n",
              "  </thead>\n",
              "  <tbody>\n",
              "    <tr>\n",
              "      <th>11</th>\n",
              "      <td>Gr Liv Area</td>\n",
              "      <td>0.127670</td>\n",
              "      <td>0.127670</td>\n",
              "    </tr>\n",
              "    <tr>\n",
              "      <th>34</th>\n",
              "      <td>Year Built</td>\n",
              "      <td>0.087737</td>\n",
              "      <td>0.087737</td>\n",
              "    </tr>\n",
              "    <tr>\n",
              "      <th>25</th>\n",
              "      <td>Overall Qual</td>\n",
              "      <td>0.085526</td>\n",
              "      <td>0.085526</td>\n",
              "    </tr>\n",
              "    <tr>\n",
              "      <th>15</th>\n",
              "      <td>Lot Area</td>\n",
              "      <td>0.056002</td>\n",
              "      <td>0.056002</td>\n",
              "    </tr>\n",
              "    <tr>\n",
              "      <th>24</th>\n",
              "      <td>Overall Cond</td>\n",
              "      <td>0.055777</td>\n",
              "      <td>0.055777</td>\n",
              "    </tr>\n",
              "    <tr>\n",
              "      <th>30</th>\n",
              "      <td>Total Bsmt SF</td>\n",
              "      <td>0.043692</td>\n",
              "      <td>0.043692</td>\n",
              "    </tr>\n",
              "    <tr>\n",
              "      <th>86</th>\n",
              "      <td>Condition 1_Norm</td>\n",
              "      <td>0.042539</td>\n",
              "      <td>0.042539</td>\n",
              "    </tr>\n",
              "    <tr>\n",
              "      <th>58</th>\n",
              "      <td>Bsmt Qual_Ex</td>\n",
              "      <td>0.030552</td>\n",
              "      <td>0.030552</td>\n",
              "    </tr>\n",
              "    <tr>\n",
              "      <th>5</th>\n",
              "      <td>BsmtFin SF 1</td>\n",
              "      <td>0.025506</td>\n",
              "      <td>0.025506</td>\n",
              "    </tr>\n",
              "    <tr>\n",
              "      <th>182</th>\n",
              "      <td>Functional_Typ</td>\n",
              "      <td>0.024344</td>\n",
              "      <td>0.024344</td>\n",
              "    </tr>\n",
              "    <tr>\n",
              "      <th>14</th>\n",
              "      <td>Location</td>\n",
              "      <td>0.023978</td>\n",
              "      <td>0.023978</td>\n",
              "    </tr>\n",
              "    <tr>\n",
              "      <th>390</th>\n",
              "      <td>Neighborhood_Crawfor</td>\n",
              "      <td>0.023506</td>\n",
              "      <td>0.023506</td>\n",
              "    </tr>\n",
              "    <tr>\n",
              "      <th>54</th>\n",
              "      <td>Bsmt Exposure_Gd</td>\n",
              "      <td>0.022583</td>\n",
              "      <td>0.022583</td>\n",
              "    </tr>\n",
              "    <tr>\n",
              "      <th>9</th>\n",
              "      <td>Garage Area</td>\n",
              "      <td>0.022492</td>\n",
              "      <td>0.022492</td>\n",
              "    </tr>\n",
              "    <tr>\n",
              "      <th>8</th>\n",
              "      <td>Fireplaces</td>\n",
              "      <td>0.021436</td>\n",
              "      <td>0.021436</td>\n",
              "    </tr>\n",
              "    <tr>\n",
              "      <th>338</th>\n",
              "      <td>Kitchen Qual_Ex</td>\n",
              "      <td>0.017254</td>\n",
              "      <td>0.017254</td>\n",
              "    </tr>\n",
              "    <tr>\n",
              "      <th>67</th>\n",
              "      <td>BsmtFin Type 1_GLQ</td>\n",
              "      <td>0.016285</td>\n",
              "      <td>0.016285</td>\n",
              "    </tr>\n",
              "    <tr>\n",
              "      <th>342</th>\n",
              "      <td>Kitchen Qual_TA</td>\n",
              "      <td>-0.015761</td>\n",
              "      <td>0.015761</td>\n",
              "    </tr>\n",
              "    <tr>\n",
              "      <th>81</th>\n",
              "      <td>Central Air_N</td>\n",
              "      <td>-0.014595</td>\n",
              "      <td>0.014595</td>\n",
              "    </tr>\n",
              "    <tr>\n",
              "      <th>323</th>\n",
              "      <td>Heating QC_Ex</td>\n",
              "      <td>0.014282</td>\n",
              "      <td>0.014282</td>\n",
              "    </tr>\n",
              "    <tr>\n",
              "      <th>28</th>\n",
              "      <td>Screen Porch</td>\n",
              "      <td>0.008595</td>\n",
              "      <td>0.008595</td>\n",
              "    </tr>\n",
              "    <tr>\n",
              "      <th>10</th>\n",
              "      <td>Garage Cars</td>\n",
              "      <td>0.008212</td>\n",
              "      <td>0.008212</td>\n",
              "    </tr>\n",
              "    <tr>\n",
              "      <th>327</th>\n",
              "      <td>Heating QC_TA</td>\n",
              "      <td>-0.007906</td>\n",
              "      <td>0.007906</td>\n",
              "    </tr>\n",
              "    <tr>\n",
              "      <th>406</th>\n",
              "      <td>Neighborhood_Sawyer</td>\n",
              "      <td>0.007879</td>\n",
              "      <td>0.007879</td>\n",
              "    </tr>\n",
              "    <tr>\n",
              "      <th>33</th>\n",
              "      <td>Wood Deck SF</td>\n",
              "      <td>0.007300</td>\n",
              "      <td>0.007300</td>\n",
              "    </tr>\n",
              "  </tbody>\n",
              "</table>\n",
              "</div>"
            ],
            "text/plain": [
              "                  feature     coef_  coef_abs\n",
              "11            Gr Liv Area  0.127670  0.127670\n",
              "34             Year Built  0.087737  0.087737\n",
              "25           Overall Qual  0.085526  0.085526\n",
              "15               Lot Area  0.056002  0.056002\n",
              "24           Overall Cond  0.055777  0.055777\n",
              "30          Total Bsmt SF  0.043692  0.043692\n",
              "86       Condition 1_Norm  0.042539  0.042539\n",
              "58           Bsmt Qual_Ex  0.030552  0.030552\n",
              "5            BsmtFin SF 1  0.025506  0.025506\n",
              "182        Functional_Typ  0.024344  0.024344\n",
              "14               Location  0.023978  0.023978\n",
              "390  Neighborhood_Crawfor  0.023506  0.023506\n",
              "54       Bsmt Exposure_Gd  0.022583  0.022583\n",
              "9             Garage Area  0.022492  0.022492\n",
              "8              Fireplaces  0.021436  0.021436\n",
              "338       Kitchen Qual_Ex  0.017254  0.017254\n",
              "67     BsmtFin Type 1_GLQ  0.016285  0.016285\n",
              "342       Kitchen Qual_TA -0.015761  0.015761\n",
              "81          Central Air_N -0.014595  0.014595\n",
              "323         Heating QC_Ex  0.014282  0.014282\n",
              "28           Screen Porch  0.008595  0.008595\n",
              "10            Garage Cars  0.008212  0.008212\n",
              "327         Heating QC_TA -0.007906  0.007906\n",
              "406   Neighborhood_Sawyer  0.007879  0.007879\n",
              "33           Wood Deck SF  0.007300  0.007300"
            ]
          },
          "metadata": {
            "tags": []
          },
          "execution_count": 35
        }
      ]
    },
    {
      "cell_type": "code",
      "metadata": {
        "colab": {
          "base_uri": "https://localhost:8080/"
        },
        "id": "xC8QGXBrILp9",
        "outputId": "723f66a9-d186-4f92-fa20-6fd16b75871a"
      },
      "source": [
        "print(f\"\\nOut-of-the-box, LassoCV sets {len(lasso_coef_.loc[lasso_coef_.coef_ == 0, 'feature'])} out of a total of {len(lasso_coef_)} (one-hot encoded) features to coefficient zero.\\n\")"
      ],
      "execution_count": 36,
      "outputs": [
        {
          "output_type": "stream",
          "text": [
            "\n",
            "Out-of-the-box, LassoCV sets 421 out of a total of 463 (one-hot encoded) features to coefficient zero.\n",
            "\n"
          ],
          "name": "stdout"
        }
      ]
    },
    {
      "cell_type": "markdown",
      "metadata": {
        "id": "hykZoJGmHQ3R"
      },
      "source": [
        "Note some of the newly created features have made it to the top 25.  As an intermediate conclusion, let's check the RMSLE for the train and test set."
      ]
    },
    {
      "cell_type": "code",
      "metadata": {
        "colab": {
          "base_uri": "https://localhost:8080/"
        },
        "id": "9U-IUOoo_65s",
        "outputId": "23819121-9dda-47fe-f4bf-d7b12e1c55d2"
      },
      "source": [
        "lasso_best_rmsle = np.sqrt(mean_squared_error(y_test, lasso.predict(X_test)))\n",
        "print(f\"\"\"Lasso RMSLE:\n",
        "  train: {np.sqrt(mean_squared_error(y, lasso.predict(X))):.5f}\n",
        "   test: {lasso_best_rmsle}\n",
        "  alpha: {lasso['lassocv'].alpha_:.6f}\n",
        "  rank on leaderboard: {leaderboard.Score.searchsorted(lasso_best_rmsle)} \n",
        "\"\"\")"
      ],
      "execution_count": 37,
      "outputs": [
        {
          "output_type": "stream",
          "text": [
            "Lasso RMSLE:\n",
            "  train: 0.09289\n",
            "   test: 0.11413246765216306\n",
            "  alpha: 0.002379\n",
            "  rank on leaderboard: 152 \n",
            "\n"
          ],
          "name": "stdout"
        },
        {
          "output_type": "stream",
          "text": [
            "/usr/local/lib/python3.6/dist-packages/sklearn/compose/_column_transformer.py:440: FutureWarning: Given feature/column names or counts do not match the ones for the data given during fit. This will fail from v0.24.\n",
            "  FutureWarning)\n"
          ],
          "name": "stderr"
        }
      ]
    },
    {
      "cell_type": "markdown",
      "metadata": {
        "id": "8KcdFBn-Jri4"
      },
      "source": [
        "### Small improvement. Moving from 158th to 152nd place out of more that 5,000 entries. Up next: KBest feature selection"
      ]
    },
    {
      "cell_type": "markdown",
      "metadata": {
        "id": "pOYqX-yOA7XP"
      },
      "source": [
        "### Adding [`KBest`](https://scikit-learn.org/stable/modules/generated/sklearn.feature_selection.SelectKBest.html#sklearn.feature_selection.SelectKBest) feature selection\n",
        "\n",
        "Let's see how the RMSLE decreases as we add more features."
      ]
    },
    {
      "cell_type": "code",
      "metadata": {
        "colab": {
          "base_uri": "https://localhost:8080/"
        },
        "id": "KvaY-BAbKebv",
        "outputId": "aaea69c7-5dc1-409b-8ead-520cd5aef69c"
      },
      "source": [
        "# warnings can be ignored, see\n",
        "# https://github.com/scikit-learn/scikit-learn/issues/11395\n",
        "from sklearn.feature_selection import SelectKBest, f_regression\n",
        "\n",
        "lassos = {}\n",
        "for k in range(5, 85, 5):\n",
        "    lassos[k] = make_pipeline(\n",
        "        prepare_linear,\n",
        "        SelectKBest(\n",
        "            f_regression,\n",
        "            k=k),\n",
        "        LassoCV(cv=5)\n",
        "        ).fit(X,y)"
      ],
      "execution_count": 234,
      "outputs": [
        {
          "output_type": "stream",
          "text": [
            "/usr/local/lib/python3.6/dist-packages/sklearn/feature_selection/_univariate_selection.py:302: RuntimeWarning: invalid value encountered in true_divide\n",
            "  corr /= X_norms\n",
            "/usr/local/lib/python3.6/dist-packages/scipy/stats/_distn_infrastructure.py:903: RuntimeWarning: invalid value encountered in greater\n",
            "  return (a < x) & (x < b)\n",
            "/usr/local/lib/python3.6/dist-packages/scipy/stats/_distn_infrastructure.py:903: RuntimeWarning: invalid value encountered in less\n",
            "  return (a < x) & (x < b)\n",
            "/usr/local/lib/python3.6/dist-packages/scipy/stats/_distn_infrastructure.py:1912: RuntimeWarning: invalid value encountered in less_equal\n",
            "  cond2 = cond0 & (x <= _a)\n",
            "/usr/local/lib/python3.6/dist-packages/sklearn/feature_selection/_univariate_selection.py:302: RuntimeWarning: invalid value encountered in true_divide\n",
            "  corr /= X_norms\n",
            "/usr/local/lib/python3.6/dist-packages/scipy/stats/_distn_infrastructure.py:903: RuntimeWarning: invalid value encountered in greater\n",
            "  return (a < x) & (x < b)\n",
            "/usr/local/lib/python3.6/dist-packages/scipy/stats/_distn_infrastructure.py:903: RuntimeWarning: invalid value encountered in less\n",
            "  return (a < x) & (x < b)\n",
            "/usr/local/lib/python3.6/dist-packages/scipy/stats/_distn_infrastructure.py:1912: RuntimeWarning: invalid value encountered in less_equal\n",
            "  cond2 = cond0 & (x <= _a)\n",
            "/usr/local/lib/python3.6/dist-packages/sklearn/feature_selection/_univariate_selection.py:302: RuntimeWarning: invalid value encountered in true_divide\n",
            "  corr /= X_norms\n",
            "/usr/local/lib/python3.6/dist-packages/scipy/stats/_distn_infrastructure.py:903: RuntimeWarning: invalid value encountered in greater\n",
            "  return (a < x) & (x < b)\n",
            "/usr/local/lib/python3.6/dist-packages/scipy/stats/_distn_infrastructure.py:903: RuntimeWarning: invalid value encountered in less\n",
            "  return (a < x) & (x < b)\n",
            "/usr/local/lib/python3.6/dist-packages/scipy/stats/_distn_infrastructure.py:1912: RuntimeWarning: invalid value encountered in less_equal\n",
            "  cond2 = cond0 & (x <= _a)\n",
            "/usr/local/lib/python3.6/dist-packages/sklearn/feature_selection/_univariate_selection.py:302: RuntimeWarning: invalid value encountered in true_divide\n",
            "  corr /= X_norms\n",
            "/usr/local/lib/python3.6/dist-packages/scipy/stats/_distn_infrastructure.py:903: RuntimeWarning: invalid value encountered in greater\n",
            "  return (a < x) & (x < b)\n",
            "/usr/local/lib/python3.6/dist-packages/scipy/stats/_distn_infrastructure.py:903: RuntimeWarning: invalid value encountered in less\n",
            "  return (a < x) & (x < b)\n",
            "/usr/local/lib/python3.6/dist-packages/scipy/stats/_distn_infrastructure.py:1912: RuntimeWarning: invalid value encountered in less_equal\n",
            "  cond2 = cond0 & (x <= _a)\n",
            "/usr/local/lib/python3.6/dist-packages/sklearn/feature_selection/_univariate_selection.py:302: RuntimeWarning: invalid value encountered in true_divide\n",
            "  corr /= X_norms\n",
            "/usr/local/lib/python3.6/dist-packages/scipy/stats/_distn_infrastructure.py:903: RuntimeWarning: invalid value encountered in greater\n",
            "  return (a < x) & (x < b)\n",
            "/usr/local/lib/python3.6/dist-packages/scipy/stats/_distn_infrastructure.py:903: RuntimeWarning: invalid value encountered in less\n",
            "  return (a < x) & (x < b)\n",
            "/usr/local/lib/python3.6/dist-packages/scipy/stats/_distn_infrastructure.py:1912: RuntimeWarning: invalid value encountered in less_equal\n",
            "  cond2 = cond0 & (x <= _a)\n",
            "/usr/local/lib/python3.6/dist-packages/sklearn/feature_selection/_univariate_selection.py:302: RuntimeWarning: invalid value encountered in true_divide\n",
            "  corr /= X_norms\n",
            "/usr/local/lib/python3.6/dist-packages/scipy/stats/_distn_infrastructure.py:903: RuntimeWarning: invalid value encountered in greater\n",
            "  return (a < x) & (x < b)\n",
            "/usr/local/lib/python3.6/dist-packages/scipy/stats/_distn_infrastructure.py:903: RuntimeWarning: invalid value encountered in less\n",
            "  return (a < x) & (x < b)\n",
            "/usr/local/lib/python3.6/dist-packages/scipy/stats/_distn_infrastructure.py:1912: RuntimeWarning: invalid value encountered in less_equal\n",
            "  cond2 = cond0 & (x <= _a)\n",
            "/usr/local/lib/python3.6/dist-packages/sklearn/feature_selection/_univariate_selection.py:302: RuntimeWarning: invalid value encountered in true_divide\n",
            "  corr /= X_norms\n",
            "/usr/local/lib/python3.6/dist-packages/scipy/stats/_distn_infrastructure.py:903: RuntimeWarning: invalid value encountered in greater\n",
            "  return (a < x) & (x < b)\n",
            "/usr/local/lib/python3.6/dist-packages/scipy/stats/_distn_infrastructure.py:903: RuntimeWarning: invalid value encountered in less\n",
            "  return (a < x) & (x < b)\n",
            "/usr/local/lib/python3.6/dist-packages/scipy/stats/_distn_infrastructure.py:1912: RuntimeWarning: invalid value encountered in less_equal\n",
            "  cond2 = cond0 & (x <= _a)\n",
            "/usr/local/lib/python3.6/dist-packages/sklearn/feature_selection/_univariate_selection.py:302: RuntimeWarning: invalid value encountered in true_divide\n",
            "  corr /= X_norms\n",
            "/usr/local/lib/python3.6/dist-packages/scipy/stats/_distn_infrastructure.py:903: RuntimeWarning: invalid value encountered in greater\n",
            "  return (a < x) & (x < b)\n",
            "/usr/local/lib/python3.6/dist-packages/scipy/stats/_distn_infrastructure.py:903: RuntimeWarning: invalid value encountered in less\n",
            "  return (a < x) & (x < b)\n",
            "/usr/local/lib/python3.6/dist-packages/scipy/stats/_distn_infrastructure.py:1912: RuntimeWarning: invalid value encountered in less_equal\n",
            "  cond2 = cond0 & (x <= _a)\n",
            "/usr/local/lib/python3.6/dist-packages/sklearn/feature_selection/_univariate_selection.py:302: RuntimeWarning: invalid value encountered in true_divide\n",
            "  corr /= X_norms\n",
            "/usr/local/lib/python3.6/dist-packages/scipy/stats/_distn_infrastructure.py:903: RuntimeWarning: invalid value encountered in greater\n",
            "  return (a < x) & (x < b)\n",
            "/usr/local/lib/python3.6/dist-packages/scipy/stats/_distn_infrastructure.py:903: RuntimeWarning: invalid value encountered in less\n",
            "  return (a < x) & (x < b)\n",
            "/usr/local/lib/python3.6/dist-packages/scipy/stats/_distn_infrastructure.py:1912: RuntimeWarning: invalid value encountered in less_equal\n",
            "  cond2 = cond0 & (x <= _a)\n",
            "/usr/local/lib/python3.6/dist-packages/sklearn/feature_selection/_univariate_selection.py:302: RuntimeWarning: invalid value encountered in true_divide\n",
            "  corr /= X_norms\n",
            "/usr/local/lib/python3.6/dist-packages/scipy/stats/_distn_infrastructure.py:903: RuntimeWarning: invalid value encountered in greater\n",
            "  return (a < x) & (x < b)\n",
            "/usr/local/lib/python3.6/dist-packages/scipy/stats/_distn_infrastructure.py:903: RuntimeWarning: invalid value encountered in less\n",
            "  return (a < x) & (x < b)\n",
            "/usr/local/lib/python3.6/dist-packages/scipy/stats/_distn_infrastructure.py:1912: RuntimeWarning: invalid value encountered in less_equal\n",
            "  cond2 = cond0 & (x <= _a)\n",
            "/usr/local/lib/python3.6/dist-packages/sklearn/feature_selection/_univariate_selection.py:302: RuntimeWarning: invalid value encountered in true_divide\n",
            "  corr /= X_norms\n",
            "/usr/local/lib/python3.6/dist-packages/scipy/stats/_distn_infrastructure.py:903: RuntimeWarning: invalid value encountered in greater\n",
            "  return (a < x) & (x < b)\n",
            "/usr/local/lib/python3.6/dist-packages/scipy/stats/_distn_infrastructure.py:903: RuntimeWarning: invalid value encountered in less\n",
            "  return (a < x) & (x < b)\n",
            "/usr/local/lib/python3.6/dist-packages/scipy/stats/_distn_infrastructure.py:1912: RuntimeWarning: invalid value encountered in less_equal\n",
            "  cond2 = cond0 & (x <= _a)\n",
            "/usr/local/lib/python3.6/dist-packages/sklearn/feature_selection/_univariate_selection.py:302: RuntimeWarning: invalid value encountered in true_divide\n",
            "  corr /= X_norms\n",
            "/usr/local/lib/python3.6/dist-packages/scipy/stats/_distn_infrastructure.py:903: RuntimeWarning: invalid value encountered in greater\n",
            "  return (a < x) & (x < b)\n",
            "/usr/local/lib/python3.6/dist-packages/scipy/stats/_distn_infrastructure.py:903: RuntimeWarning: invalid value encountered in less\n",
            "  return (a < x) & (x < b)\n",
            "/usr/local/lib/python3.6/dist-packages/scipy/stats/_distn_infrastructure.py:1912: RuntimeWarning: invalid value encountered in less_equal\n",
            "  cond2 = cond0 & (x <= _a)\n",
            "/usr/local/lib/python3.6/dist-packages/sklearn/feature_selection/_univariate_selection.py:302: RuntimeWarning: invalid value encountered in true_divide\n",
            "  corr /= X_norms\n",
            "/usr/local/lib/python3.6/dist-packages/scipy/stats/_distn_infrastructure.py:903: RuntimeWarning: invalid value encountered in greater\n",
            "  return (a < x) & (x < b)\n",
            "/usr/local/lib/python3.6/dist-packages/scipy/stats/_distn_infrastructure.py:903: RuntimeWarning: invalid value encountered in less\n",
            "  return (a < x) & (x < b)\n",
            "/usr/local/lib/python3.6/dist-packages/scipy/stats/_distn_infrastructure.py:1912: RuntimeWarning: invalid value encountered in less_equal\n",
            "  cond2 = cond0 & (x <= _a)\n",
            "/usr/local/lib/python3.6/dist-packages/sklearn/feature_selection/_univariate_selection.py:302: RuntimeWarning: invalid value encountered in true_divide\n",
            "  corr /= X_norms\n",
            "/usr/local/lib/python3.6/dist-packages/scipy/stats/_distn_infrastructure.py:903: RuntimeWarning: invalid value encountered in greater\n",
            "  return (a < x) & (x < b)\n",
            "/usr/local/lib/python3.6/dist-packages/scipy/stats/_distn_infrastructure.py:903: RuntimeWarning: invalid value encountered in less\n",
            "  return (a < x) & (x < b)\n",
            "/usr/local/lib/python3.6/dist-packages/scipy/stats/_distn_infrastructure.py:1912: RuntimeWarning: invalid value encountered in less_equal\n",
            "  cond2 = cond0 & (x <= _a)\n",
            "/usr/local/lib/python3.6/dist-packages/sklearn/feature_selection/_univariate_selection.py:302: RuntimeWarning: invalid value encountered in true_divide\n",
            "  corr /= X_norms\n",
            "/usr/local/lib/python3.6/dist-packages/scipy/stats/_distn_infrastructure.py:903: RuntimeWarning: invalid value encountered in greater\n",
            "  return (a < x) & (x < b)\n",
            "/usr/local/lib/python3.6/dist-packages/scipy/stats/_distn_infrastructure.py:903: RuntimeWarning: invalid value encountered in less\n",
            "  return (a < x) & (x < b)\n",
            "/usr/local/lib/python3.6/dist-packages/scipy/stats/_distn_infrastructure.py:1912: RuntimeWarning: invalid value encountered in less_equal\n",
            "  cond2 = cond0 & (x <= _a)\n",
            "/usr/local/lib/python3.6/dist-packages/sklearn/feature_selection/_univariate_selection.py:302: RuntimeWarning: invalid value encountered in true_divide\n",
            "  corr /= X_norms\n",
            "/usr/local/lib/python3.6/dist-packages/scipy/stats/_distn_infrastructure.py:903: RuntimeWarning: invalid value encountered in greater\n",
            "  return (a < x) & (x < b)\n",
            "/usr/local/lib/python3.6/dist-packages/scipy/stats/_distn_infrastructure.py:903: RuntimeWarning: invalid value encountered in less\n",
            "  return (a < x) & (x < b)\n",
            "/usr/local/lib/python3.6/dist-packages/scipy/stats/_distn_infrastructure.py:1912: RuntimeWarning: invalid value encountered in less_equal\n",
            "  cond2 = cond0 & (x <= _a)\n"
          ],
          "name": "stderr"
        }
      ]
    },
    {
      "cell_type": "code",
      "metadata": {
        "id": "DcWdmypCMFD_",
        "colab": {
          "base_uri": "https://localhost:8080/"
        },
        "outputId": "eb83e743-380f-4796-b4e3-ad41c9ce8983"
      },
      "source": [
        "kbest_rmsle_train = [np.sqrt(mean_squared_error(y, lasso.predict(X))) for lasso in lassos.values()]\n",
        "kbest_rmsle_test = [np.sqrt(mean_squared_error(y_test, lasso.predict(X_test))) for lasso in lassos.values()]"
      ],
      "execution_count": 235,
      "outputs": [
        {
          "output_type": "stream",
          "text": [
            "/usr/local/lib/python3.6/dist-packages/sklearn/compose/_column_transformer.py:440: FutureWarning: Given feature/column names or counts do not match the ones for the data given during fit. This will fail from v0.24.\n",
            "  FutureWarning)\n",
            "/usr/local/lib/python3.6/dist-packages/sklearn/compose/_column_transformer.py:440: FutureWarning: Given feature/column names or counts do not match the ones for the data given during fit. This will fail from v0.24.\n",
            "  FutureWarning)\n",
            "/usr/local/lib/python3.6/dist-packages/sklearn/compose/_column_transformer.py:440: FutureWarning: Given feature/column names or counts do not match the ones for the data given during fit. This will fail from v0.24.\n",
            "  FutureWarning)\n",
            "/usr/local/lib/python3.6/dist-packages/sklearn/compose/_column_transformer.py:440: FutureWarning: Given feature/column names or counts do not match the ones for the data given during fit. This will fail from v0.24.\n",
            "  FutureWarning)\n",
            "/usr/local/lib/python3.6/dist-packages/sklearn/compose/_column_transformer.py:440: FutureWarning: Given feature/column names or counts do not match the ones for the data given during fit. This will fail from v0.24.\n",
            "  FutureWarning)\n",
            "/usr/local/lib/python3.6/dist-packages/sklearn/compose/_column_transformer.py:440: FutureWarning: Given feature/column names or counts do not match the ones for the data given during fit. This will fail from v0.24.\n",
            "  FutureWarning)\n",
            "/usr/local/lib/python3.6/dist-packages/sklearn/compose/_column_transformer.py:440: FutureWarning: Given feature/column names or counts do not match the ones for the data given during fit. This will fail from v0.24.\n",
            "  FutureWarning)\n",
            "/usr/local/lib/python3.6/dist-packages/sklearn/compose/_column_transformer.py:440: FutureWarning: Given feature/column names or counts do not match the ones for the data given during fit. This will fail from v0.24.\n",
            "  FutureWarning)\n",
            "/usr/local/lib/python3.6/dist-packages/sklearn/compose/_column_transformer.py:440: FutureWarning: Given feature/column names or counts do not match the ones for the data given during fit. This will fail from v0.24.\n",
            "  FutureWarning)\n",
            "/usr/local/lib/python3.6/dist-packages/sklearn/compose/_column_transformer.py:440: FutureWarning: Given feature/column names or counts do not match the ones for the data given during fit. This will fail from v0.24.\n",
            "  FutureWarning)\n",
            "/usr/local/lib/python3.6/dist-packages/sklearn/compose/_column_transformer.py:440: FutureWarning: Given feature/column names or counts do not match the ones for the data given during fit. This will fail from v0.24.\n",
            "  FutureWarning)\n",
            "/usr/local/lib/python3.6/dist-packages/sklearn/compose/_column_transformer.py:440: FutureWarning: Given feature/column names or counts do not match the ones for the data given during fit. This will fail from v0.24.\n",
            "  FutureWarning)\n",
            "/usr/local/lib/python3.6/dist-packages/sklearn/compose/_column_transformer.py:440: FutureWarning: Given feature/column names or counts do not match the ones for the data given during fit. This will fail from v0.24.\n",
            "  FutureWarning)\n",
            "/usr/local/lib/python3.6/dist-packages/sklearn/compose/_column_transformer.py:440: FutureWarning: Given feature/column names or counts do not match the ones for the data given during fit. This will fail from v0.24.\n",
            "  FutureWarning)\n",
            "/usr/local/lib/python3.6/dist-packages/sklearn/compose/_column_transformer.py:440: FutureWarning: Given feature/column names or counts do not match the ones for the data given during fit. This will fail from v0.24.\n",
            "  FutureWarning)\n",
            "/usr/local/lib/python3.6/dist-packages/sklearn/compose/_column_transformer.py:440: FutureWarning: Given feature/column names or counts do not match the ones for the data given during fit. This will fail from v0.24.\n",
            "  FutureWarning)\n"
          ],
          "name": "stderr"
        }
      ]
    },
    {
      "cell_type": "code",
      "metadata": {
        "colab": {
          "base_uri": "https://localhost:8080/",
          "height": 265
        },
        "id": "xu0Y9-TMMrQu",
        "outputId": "fb94af73-90cb-4bc5-b2ba-9db47abde3b1"
      },
      "source": [
        "sns.scatterplot(x=kbest_rmsle_train, y=kbest_rmsle_test, hue=lassos.keys());"
      ],
      "execution_count": 236,
      "outputs": [
        {
          "output_type": "display_data",
          "data": {
            "image/png": "[encoded data removed]",
            "text/plain": [
              "<Figure size 432x288 with 1 Axes>"
            ]
          },
          "metadata": {
            "tags": []
          }
        }
      ]
    },
    {
      "cell_type": "markdown",
      "metadata": {
        "id": "Zu_qObxlRMlc"
      },
      "source": [
        "## Non-linear models"
      ]
    },
    {
      "cell_type": "markdown",
      "metadata": {
        "id": "7bO8i9wxSxnu"
      },
      "source": [
        "### Random Forest"
      ]
    },
    {
      "cell_type": "code",
      "metadata": {
        "id": "gkd0xxxXS1cM"
      },
      "source": [
        "preprocess_cat_cols_2 = make_pipeline(\n",
        "    SimpleImputer(\n",
        "        missing_values = np.nan,\n",
        "        strategy='constant',\n",
        "        fill_value=MISSING),\n",
        "    OrdinalEncoder(categories=categories)\n",
        ")\n",
        "\n",
        "preprocess_num_cols_2 = make_pipeline(\n",
        "    SimpleImputer(\n",
        "        missing_values=np.nan,\n",
        "        strategy='median'\n",
        "        ),\n",
        ")\n",
        "\n",
        "prepare_nonlinear = make_column_transformer(\n",
        "    (preprocess_num_cols_2, num_cols),\n",
        "    (preprocess_cat_cols_2, cat_cols),\n",
        "    remainder='drop'\n",
        ")\n",
        "\n",
        "rf = make_pipeline(\n",
        "    prepare_nonlinear,\n",
        "    RandomForestRegressor(random_state=42)\n",
        ")\n",
        "\n",
        "rf_score = cross_validate(\n",
        "    rf, X, y,\n",
        "    scoring=['neg_mean_squared_error'],\n",
        "    return_train_score=True,\n",
        ")"
      ],
      "execution_count": null,
      "outputs": []
    },
    {
      "cell_type": "code",
      "metadata": {
        "id": "ETQgo9gcUBPz"
      },
      "source": [
        "rf_ax = sns.scatterplot(\n",
        "    x=np.sqrt(-rf_score['train_neg_mean_squared_error']),\n",
        "    y=np.sqrt(-rf_score['test_neg_mean_squared_error']),\n",
        ")\n",
        "rf_ax.set(\n",
        "    xlabel='train score',\n",
        "    ylabel='test score',\n",
        ")\n",
        "plt.show()"
      ],
      "execution_count": null,
      "outputs": []
    },
    {
      "cell_type": "markdown",
      "metadata": {
        "id": "mdBpYKFPUTwh"
      },
      "source": [
        "### XGBoost"
      ]
    },
    {
      "cell_type": "code",
      "metadata": {
        "id": "bDkJ1cJqV3RE"
      },
      "source": [
        "xgb = make_pipeline(\n",
        "    prepare_nonlinear,\n",
        "    xgb.XGBRegressor()\n",
        ")\n",
        "\n",
        "xgb_score = cross_validate(\n",
        "    xgb, X, y,\n",
        "    scoring=['neg_mean_squared_error'],\n",
        "    return_train_score=True,\n",
        ")"
      ],
      "execution_count": null,
      "outputs": []
    },
    {
      "cell_type": "code",
      "metadata": {
        "id": "YRWBoXNrWYYj"
      },
      "source": [
        "xgb_ax = sns.scatterplot(\n",
        "    x=np.sqrt(-xgb_score['train_neg_mean_squared_error']),\n",
        "    y=np.sqrt(-xgb_score['test_neg_mean_squared_error']),\n",
        ")\n",
        "xgb_ax.set(\n",
        "    xlabel='train score',\n",
        "    ylabel='test score',\n",
        ")\n",
        "plt.show()"
      ],
      "execution_count": null,
      "outputs": []
    }
  ]
}